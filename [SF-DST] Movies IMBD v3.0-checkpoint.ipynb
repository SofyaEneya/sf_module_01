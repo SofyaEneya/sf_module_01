{
 "cells": [
  {
   "cell_type": "code",
   "execution_count": 366,
   "metadata": {
    "_cell_guid": "b1076dfc-b9ad-4769-8c92-a6c4dae69d19",
    "_uuid": "8f2839f25d086af736a60e9eeb907d3b93b6e0e5"
   },
   "outputs": [],
   "source": [
    "import numpy as np\n",
    "import pandas as pd\n",
    "import seaborn as sns\n",
    "import matplotlib.pyplot as plt\n",
    "import os\n",
    "from collections import Counter\n",
    "#print(os.listdir(\"../input\"))\n"
   ]
  },
  {
   "cell_type": "code",
   "execution_count": 367,
   "metadata": {},
   "outputs": [
    {
     "data": {
      "text/html": [
       "<div>\n",
       "<style scoped>\n",
       "    .dataframe tbody tr th:only-of-type {\n",
       "        vertical-align: middle;\n",
       "    }\n",
       "\n",
       "    .dataframe tbody tr th {\n",
       "        vertical-align: top;\n",
       "    }\n",
       "\n",
       "    .dataframe thead th {\n",
       "        text-align: right;\n",
       "    }\n",
       "</style>\n",
       "<table border=\"1\" class=\"dataframe\">\n",
       "  <thead>\n",
       "    <tr style=\"text-align: right;\">\n",
       "      <th></th>\n",
       "      <th>imdb_id</th>\n",
       "      <th>popularity</th>\n",
       "      <th>budget</th>\n",
       "      <th>revenue</th>\n",
       "      <th>original_title</th>\n",
       "      <th>cast</th>\n",
       "      <th>director</th>\n",
       "      <th>tagline</th>\n",
       "      <th>overview</th>\n",
       "      <th>runtime</th>\n",
       "      <th>genres</th>\n",
       "      <th>production_companies</th>\n",
       "      <th>release_date</th>\n",
       "      <th>vote_count</th>\n",
       "      <th>vote_average</th>\n",
       "      <th>release_year</th>\n",
       "    </tr>\n",
       "  </thead>\n",
       "  <tbody>\n",
       "    <tr>\n",
       "      <td>0</td>\n",
       "      <td>tt0369610</td>\n",
       "      <td>32.985763</td>\n",
       "      <td>150000000</td>\n",
       "      <td>1513528810</td>\n",
       "      <td>Jurassic World</td>\n",
       "      <td>Chris Pratt|Bryce Dallas Howard|Irrfan Khan|Vi...</td>\n",
       "      <td>Colin Trevorrow</td>\n",
       "      <td>The park is open.</td>\n",
       "      <td>Twenty-two years after the events of Jurassic ...</td>\n",
       "      <td>124</td>\n",
       "      <td>Action|Adventure|Science Fiction|Thriller</td>\n",
       "      <td>Universal Studios|Amblin Entertainment|Legenda...</td>\n",
       "      <td>6/9/2015</td>\n",
       "      <td>5562</td>\n",
       "      <td>6.5</td>\n",
       "      <td>2015</td>\n",
       "    </tr>\n",
       "    <tr>\n",
       "      <td>1</td>\n",
       "      <td>tt1392190</td>\n",
       "      <td>28.419936</td>\n",
       "      <td>150000000</td>\n",
       "      <td>378436354</td>\n",
       "      <td>Mad Max: Fury Road</td>\n",
       "      <td>Tom Hardy|Charlize Theron|Hugh Keays-Byrne|Nic...</td>\n",
       "      <td>George Miller</td>\n",
       "      <td>What a Lovely Day.</td>\n",
       "      <td>An apocalyptic story set in the furthest reach...</td>\n",
       "      <td>120</td>\n",
       "      <td>Action|Adventure|Science Fiction|Thriller</td>\n",
       "      <td>Village Roadshow Pictures|Kennedy Miller Produ...</td>\n",
       "      <td>5/13/2015</td>\n",
       "      <td>6185</td>\n",
       "      <td>7.1</td>\n",
       "      <td>2015</td>\n",
       "    </tr>\n",
       "    <tr>\n",
       "      <td>2</td>\n",
       "      <td>tt2908446</td>\n",
       "      <td>13.112507</td>\n",
       "      <td>110000000</td>\n",
       "      <td>295238201</td>\n",
       "      <td>Insurgent</td>\n",
       "      <td>Shailene Woodley|Theo James|Kate Winslet|Ansel...</td>\n",
       "      <td>Robert Schwentke</td>\n",
       "      <td>One Choice Can Destroy You</td>\n",
       "      <td>Beatrice Prior must confront her inner demons ...</td>\n",
       "      <td>119</td>\n",
       "      <td>Adventure|Science Fiction|Thriller</td>\n",
       "      <td>Summit Entertainment|Mandeville Films|Red Wago...</td>\n",
       "      <td>3/18/2015</td>\n",
       "      <td>2480</td>\n",
       "      <td>6.3</td>\n",
       "      <td>2015</td>\n",
       "    </tr>\n",
       "  </tbody>\n",
       "</table>\n",
       "</div>"
      ],
      "text/plain": [
       "     imdb_id  popularity     budget     revenue      original_title  \\\n",
       "0  tt0369610   32.985763  150000000  1513528810      Jurassic World   \n",
       "1  tt1392190   28.419936  150000000   378436354  Mad Max: Fury Road   \n",
       "2  tt2908446   13.112507  110000000   295238201           Insurgent   \n",
       "\n",
       "                                                cast          director  \\\n",
       "0  Chris Pratt|Bryce Dallas Howard|Irrfan Khan|Vi...   Colin Trevorrow   \n",
       "1  Tom Hardy|Charlize Theron|Hugh Keays-Byrne|Nic...     George Miller   \n",
       "2  Shailene Woodley|Theo James|Kate Winslet|Ansel...  Robert Schwentke   \n",
       "\n",
       "                      tagline  \\\n",
       "0           The park is open.   \n",
       "1          What a Lovely Day.   \n",
       "2  One Choice Can Destroy You   \n",
       "\n",
       "                                            overview  runtime  \\\n",
       "0  Twenty-two years after the events of Jurassic ...      124   \n",
       "1  An apocalyptic story set in the furthest reach...      120   \n",
       "2  Beatrice Prior must confront her inner demons ...      119   \n",
       "\n",
       "                                      genres  \\\n",
       "0  Action|Adventure|Science Fiction|Thriller   \n",
       "1  Action|Adventure|Science Fiction|Thriller   \n",
       "2         Adventure|Science Fiction|Thriller   \n",
       "\n",
       "                                production_companies release_date  vote_count  \\\n",
       "0  Universal Studios|Amblin Entertainment|Legenda...     6/9/2015        5562   \n",
       "1  Village Roadshow Pictures|Kennedy Miller Produ...    5/13/2015        6185   \n",
       "2  Summit Entertainment|Mandeville Films|Red Wago...    3/18/2015        2480   \n",
       "\n",
       "   vote_average  release_year  \n",
       "0           6.5          2015  \n",
       "1           7.1          2015  \n",
       "2           6.3          2015  "
      ]
     },
     "execution_count": 367,
     "metadata": {},
     "output_type": "execute_result"
    }
   ],
   "source": [
    "data = pd.read_csv('data.csv')\n",
    "data.head(3)"
   ]
  },
  {
   "cell_type": "code",
   "execution_count": 7,
   "metadata": {},
   "outputs": [
    {
     "name": "stdout",
     "output_type": "stream",
     "text": [
      "<class 'pandas.core.frame.DataFrame'>\n",
      "RangeIndex: 1890 entries, 0 to 1889\n",
      "Data columns (total 16 columns):\n",
      "imdb_id                 1890 non-null object\n",
      "popularity              1890 non-null float64\n",
      "budget                  1890 non-null int64\n",
      "revenue                 1890 non-null int64\n",
      "original_title          1890 non-null object\n",
      "cast                    1890 non-null object\n",
      "director                1890 non-null object\n",
      "tagline                 1890 non-null object\n",
      "overview                1890 non-null object\n",
      "runtime                 1890 non-null int64\n",
      "genres                  1890 non-null object\n",
      "production_companies    1890 non-null object\n",
      "release_date            1890 non-null object\n",
      "vote_count              1890 non-null int64\n",
      "vote_average            1890 non-null float64\n",
      "release_year            1890 non-null int64\n",
      "dtypes: float64(2), int64(5), object(9)\n",
      "memory usage: 236.4+ KB\n"
     ]
    }
   ],
   "source": [
    "data.info()"
   ]
  },
  {
   "cell_type": "code",
   "execution_count": 8,
   "metadata": {},
   "outputs": [
    {
     "data": {
      "text/html": [
       "<div>\n",
       "<style scoped>\n",
       "    .dataframe tbody tr th:only-of-type {\n",
       "        vertical-align: middle;\n",
       "    }\n",
       "\n",
       "    .dataframe tbody tr th {\n",
       "        vertical-align: top;\n",
       "    }\n",
       "\n",
       "    .dataframe thead th {\n",
       "        text-align: right;\n",
       "    }\n",
       "</style>\n",
       "<table border=\"1\" class=\"dataframe\">\n",
       "  <thead>\n",
       "    <tr style=\"text-align: right;\">\n",
       "      <th></th>\n",
       "      <th>popularity</th>\n",
       "      <th>budget</th>\n",
       "      <th>revenue</th>\n",
       "      <th>runtime</th>\n",
       "      <th>vote_count</th>\n",
       "      <th>vote_average</th>\n",
       "      <th>release_year</th>\n",
       "    </tr>\n",
       "  </thead>\n",
       "  <tbody>\n",
       "    <tr>\n",
       "      <td>count</td>\n",
       "      <td>1890.000000</td>\n",
       "      <td>1.890000e+03</td>\n",
       "      <td>1.890000e+03</td>\n",
       "      <td>1890.000000</td>\n",
       "      <td>1890.000000</td>\n",
       "      <td>1890.000000</td>\n",
       "      <td>1890.000000</td>\n",
       "    </tr>\n",
       "    <tr>\n",
       "      <td>mean</td>\n",
       "      <td>1.560611</td>\n",
       "      <td>5.450696e+07</td>\n",
       "      <td>1.552890e+08</td>\n",
       "      <td>109.653439</td>\n",
       "      <td>785.666667</td>\n",
       "      <td>6.140899</td>\n",
       "      <td>2007.861905</td>\n",
       "    </tr>\n",
       "    <tr>\n",
       "      <td>std</td>\n",
       "      <td>1.849471</td>\n",
       "      <td>4.931705e+07</td>\n",
       "      <td>2.146386e+08</td>\n",
       "      <td>18.013641</td>\n",
       "      <td>1068.725880</td>\n",
       "      <td>0.764584</td>\n",
       "      <td>4.467929</td>\n",
       "    </tr>\n",
       "    <tr>\n",
       "      <td>min</td>\n",
       "      <td>0.010335</td>\n",
       "      <td>5.000000e+06</td>\n",
       "      <td>2.033165e+06</td>\n",
       "      <td>63.000000</td>\n",
       "      <td>10.000000</td>\n",
       "      <td>3.300000</td>\n",
       "      <td>2000.000000</td>\n",
       "    </tr>\n",
       "    <tr>\n",
       "      <td>25%</td>\n",
       "      <td>0.643284</td>\n",
       "      <td>2.000000e+07</td>\n",
       "      <td>3.434007e+07</td>\n",
       "      <td>97.000000</td>\n",
       "      <td>164.000000</td>\n",
       "      <td>5.600000</td>\n",
       "      <td>2004.000000</td>\n",
       "    </tr>\n",
       "    <tr>\n",
       "      <td>50%</td>\n",
       "      <td>1.065065</td>\n",
       "      <td>3.800000e+07</td>\n",
       "      <td>8.358664e+07</td>\n",
       "      <td>106.500000</td>\n",
       "      <td>389.000000</td>\n",
       "      <td>6.100000</td>\n",
       "      <td>2008.000000</td>\n",
       "    </tr>\n",
       "    <tr>\n",
       "      <td>75%</td>\n",
       "      <td>1.804537</td>\n",
       "      <td>7.200000e+07</td>\n",
       "      <td>1.782136e+08</td>\n",
       "      <td>120.000000</td>\n",
       "      <td>937.750000</td>\n",
       "      <td>6.600000</td>\n",
       "      <td>2012.000000</td>\n",
       "    </tr>\n",
       "    <tr>\n",
       "      <td>max</td>\n",
       "      <td>32.985763</td>\n",
       "      <td>4.250000e+08</td>\n",
       "      <td>2.781506e+09</td>\n",
       "      <td>214.000000</td>\n",
       "      <td>9767.000000</td>\n",
       "      <td>8.100000</td>\n",
       "      <td>2015.000000</td>\n",
       "    </tr>\n",
       "  </tbody>\n",
       "</table>\n",
       "</div>"
      ],
      "text/plain": [
       "        popularity        budget       revenue      runtime   vote_count  \\\n",
       "count  1890.000000  1.890000e+03  1.890000e+03  1890.000000  1890.000000   \n",
       "mean      1.560611  5.450696e+07  1.552890e+08   109.653439   785.666667   \n",
       "std       1.849471  4.931705e+07  2.146386e+08    18.013641  1068.725880   \n",
       "min       0.010335  5.000000e+06  2.033165e+06    63.000000    10.000000   \n",
       "25%       0.643284  2.000000e+07  3.434007e+07    97.000000   164.000000   \n",
       "50%       1.065065  3.800000e+07  8.358664e+07   106.500000   389.000000   \n",
       "75%       1.804537  7.200000e+07  1.782136e+08   120.000000   937.750000   \n",
       "max      32.985763  4.250000e+08  2.781506e+09   214.000000  9767.000000   \n",
       "\n",
       "       vote_average  release_year  \n",
       "count   1890.000000   1890.000000  \n",
       "mean       6.140899   2007.861905  \n",
       "std        0.764584      4.467929  \n",
       "min        3.300000   2000.000000  \n",
       "25%        5.600000   2004.000000  \n",
       "50%        6.100000   2008.000000  \n",
       "75%        6.600000   2012.000000  \n",
       "max        8.100000   2015.000000  "
      ]
     },
     "execution_count": 8,
     "metadata": {},
     "output_type": "execute_result"
    }
   ],
   "source": [
    "data.describe()"
   ]
  },
  {
   "cell_type": "code",
   "execution_count": 6,
   "metadata": {},
   "outputs": [
    {
     "data": {
      "text/html": [
       "<div>\n",
       "<style scoped>\n",
       "    .dataframe tbody tr th:only-of-type {\n",
       "        vertical-align: middle;\n",
       "    }\n",
       "\n",
       "    .dataframe tbody tr th {\n",
       "        vertical-align: top;\n",
       "    }\n",
       "\n",
       "    .dataframe thead th {\n",
       "        text-align: right;\n",
       "    }\n",
       "</style>\n",
       "<table border=\"1\" class=\"dataframe\">\n",
       "  <thead>\n",
       "    <tr style=\"text-align: right;\">\n",
       "      <th></th>\n",
       "      <th>imdb_id</th>\n",
       "      <th>original_title</th>\n",
       "      <th>cast</th>\n",
       "      <th>director</th>\n",
       "      <th>tagline</th>\n",
       "      <th>overview</th>\n",
       "      <th>genres</th>\n",
       "      <th>production_companies</th>\n",
       "      <th>release_date</th>\n",
       "    </tr>\n",
       "  </thead>\n",
       "  <tbody>\n",
       "    <tr>\n",
       "      <td>count</td>\n",
       "      <td>1890</td>\n",
       "      <td>1890</td>\n",
       "      <td>1890</td>\n",
       "      <td>1890</td>\n",
       "      <td>1890</td>\n",
       "      <td>1890</td>\n",
       "      <td>1890</td>\n",
       "      <td>1890</td>\n",
       "      <td>1890</td>\n",
       "    </tr>\n",
       "    <tr>\n",
       "      <td>unique</td>\n",
       "      <td>1890</td>\n",
       "      <td>1888</td>\n",
       "      <td>1879</td>\n",
       "      <td>958</td>\n",
       "      <td>1881</td>\n",
       "      <td>1890</td>\n",
       "      <td>653</td>\n",
       "      <td>1625</td>\n",
       "      <td>1435</td>\n",
       "    </tr>\n",
       "    <tr>\n",
       "      <td>top</td>\n",
       "      <td>tt0335563</td>\n",
       "      <td>Fantastic Four</td>\n",
       "      <td>Elijah Wood|Ian McKellen|Viggo Mortensen|Liv T...</td>\n",
       "      <td>Steven Soderbergh</td>\n",
       "      <td>Based on a true story.</td>\n",
       "      <td>Firefighters Chuck Ford and Larry Valentine ar...</td>\n",
       "      <td>Comedy</td>\n",
       "      <td>New Line Cinema</td>\n",
       "      <td>12/25/2014</td>\n",
       "    </tr>\n",
       "    <tr>\n",
       "      <td>freq</td>\n",
       "      <td>1</td>\n",
       "      <td>2</td>\n",
       "      <td>3</td>\n",
       "      <td>13</td>\n",
       "      <td>2</td>\n",
       "      <td>1</td>\n",
       "      <td>141</td>\n",
       "      <td>21</td>\n",
       "      <td>7</td>\n",
       "    </tr>\n",
       "  </tbody>\n",
       "</table>\n",
       "</div>"
      ],
      "text/plain": [
       "          imdb_id  original_title  \\\n",
       "count        1890            1890   \n",
       "unique       1890            1888   \n",
       "top     tt0335563  Fantastic Four   \n",
       "freq            1               2   \n",
       "\n",
       "                                                     cast           director  \\\n",
       "count                                                1890               1890   \n",
       "unique                                               1879                958   \n",
       "top     Elijah Wood|Ian McKellen|Viggo Mortensen|Liv T...  Steven Soderbergh   \n",
       "freq                                                    3                 13   \n",
       "\n",
       "                       tagline  \\\n",
       "count                     1890   \n",
       "unique                    1881   \n",
       "top     Based on a true story.   \n",
       "freq                         2   \n",
       "\n",
       "                                                 overview  genres  \\\n",
       "count                                                1890    1890   \n",
       "unique                                               1890     653   \n",
       "top     Firefighters Chuck Ford and Larry Valentine ar...  Comedy   \n",
       "freq                                                    1     141   \n",
       "\n",
       "       production_companies release_date  \n",
       "count                  1890         1890  \n",
       "unique                 1625         1435  \n",
       "top         New Line Cinema   12/25/2014  \n",
       "freq                     21            7  "
      ]
     },
     "execution_count": 6,
     "metadata": {},
     "output_type": "execute_result"
    }
   ],
   "source": [
    "data.describe(include = ['object'])"
   ]
  },
  {
   "cell_type": "code",
   "execution_count": 9,
   "metadata": {},
   "outputs": [
    {
     "data": {
      "text/plain": [
       "1890"
      ]
     },
     "execution_count": 9,
     "metadata": {},
     "output_type": "execute_result"
    }
   ],
   "source": [
    "len(data)"
   ]
  },
  {
   "cell_type": "markdown",
   "metadata": {},
   "source": [
    "# Предобработка датасета"
   ]
  },
  {
   "cell_type": "code",
   "execution_count": 10,
   "metadata": {},
   "outputs": [
    {
     "data": {
      "text/plain": [
       "Index(['imdb_id', 'popularity', 'budget', 'revenue', 'original_title', 'cast',\n",
       "       'director', 'tagline', 'overview', 'runtime', 'genres',\n",
       "       'production_companies', 'release_date', 'vote_count', 'vote_average',\n",
       "       'release_year'],\n",
       "      dtype='object')"
      ]
     },
     "execution_count": 10,
     "metadata": {},
     "output_type": "execute_result"
    }
   ],
   "source": [
    "data.columns"
   ]
  },
  {
   "cell_type": "code",
   "execution_count": 11,
   "metadata": {},
   "outputs": [
    {
     "data": {
      "text/plain": [
       "RangeIndex(start=0, stop=1890, step=1)"
      ]
     },
     "execution_count": 11,
     "metadata": {},
     "output_type": "execute_result"
    }
   ],
   "source": [
    "data.index\n"
   ]
  },
  {
   "cell_type": "code",
   "execution_count": 12,
   "metadata": {},
   "outputs": [],
   "source": [
    "answer_ls = [] # создадим список с ответами. сюда будем добавлять ответы по мере прохождения теста\n",
    "# сюда можем вписать создание новых колонок в датасете"
   ]
  },
  {
   "cell_type": "code",
   "execution_count": 13,
   "metadata": {},
   "outputs": [
    {
     "data": {
      "text/plain": [
       "imdb_id                  object\n",
       "popularity              float64\n",
       "budget                    int64\n",
       "revenue                   int64\n",
       "original_title           object\n",
       "cast                     object\n",
       "director                 object\n",
       "tagline                  object\n",
       "overview                 object\n",
       "runtime                   int64\n",
       "genres                   object\n",
       "production_companies     object\n",
       "release_date             object\n",
       "vote_count                int64\n",
       "vote_average            float64\n",
       "release_year              int64\n",
       "dtype: object"
      ]
     },
     "execution_count": 13,
     "metadata": {},
     "output_type": "execute_result"
    }
   ],
   "source": [
    "data.dtypes"
   ]
  },
  {
   "cell_type": "markdown",
   "metadata": {},
   "source": [
    "# 1. У какого фильма из списка самый большой бюджет?\n",
    "Варианты ответов:\n",
    "1. The Dark Knight Rises (tt1345836)\n",
    "2. Spider-Man 3 (tt0413300)\n",
    "3. Avengers: Age of Ultron (tt2395427)\n",
    "4. The Warrior's Way\t(tt1032751)\n",
    "5. Pirates of the Caribbean: On Stranger Tides (tt1298650)"
   ]
  },
  {
   "cell_type": "code",
   "execution_count": 14,
   "metadata": {},
   "outputs": [
    {
     "data": {
      "text/plain": [
       "[4]"
      ]
     },
     "execution_count": 14,
     "metadata": {},
     "output_type": "execute_result"
    }
   ],
   "source": [
    "data.loc[(data['budget'] == data['budget'].max())]\n",
    "\n",
    "# тут вводим ваш ответ и добавлем в его список ответов (сейчас для примера стоит \"1\")\n",
    "answer_ls.append(4)\n",
    "answer_ls"
   ]
  },
  {
   "cell_type": "markdown",
   "metadata": {},
   "source": [
    "# 2. Какой из фильмов самый длительный (в минутах)\n",
    "1. The Lord of the Rings: The Return of the King\t(tt0167260)\n",
    "2. Gods and Generals\t(tt0279111)\n",
    "3. King Kong\t(tt0360717)\n",
    "4. Pearl Harbor\t(tt0213149)\n",
    "5. Alexander\t(tt0346491)"
   ]
  },
  {
   "cell_type": "code",
   "execution_count": 17,
   "metadata": {},
   "outputs": [
    {
     "data": {
      "text/html": [
       "<div>\n",
       "<style scoped>\n",
       "    .dataframe tbody tr th:only-of-type {\n",
       "        vertical-align: middle;\n",
       "    }\n",
       "\n",
       "    .dataframe tbody tr th {\n",
       "        vertical-align: top;\n",
       "    }\n",
       "\n",
       "    .dataframe thead th {\n",
       "        text-align: right;\n",
       "    }\n",
       "</style>\n",
       "<table border=\"1\" class=\"dataframe\">\n",
       "  <thead>\n",
       "    <tr style=\"text-align: right;\">\n",
       "      <th></th>\n",
       "      <th>imdb_id</th>\n",
       "      <th>popularity</th>\n",
       "      <th>budget</th>\n",
       "      <th>revenue</th>\n",
       "      <th>original_title</th>\n",
       "      <th>cast</th>\n",
       "      <th>director</th>\n",
       "      <th>tagline</th>\n",
       "      <th>overview</th>\n",
       "      <th>runtime</th>\n",
       "      <th>genres</th>\n",
       "      <th>production_companies</th>\n",
       "      <th>release_date</th>\n",
       "      <th>vote_count</th>\n",
       "      <th>vote_average</th>\n",
       "      <th>release_year</th>\n",
       "    </tr>\n",
       "  </thead>\n",
       "  <tbody>\n",
       "    <tr>\n",
       "      <td>1158</td>\n",
       "      <td>tt0279111</td>\n",
       "      <td>0.469518</td>\n",
       "      <td>56000000</td>\n",
       "      <td>12923936</td>\n",
       "      <td>Gods and Generals</td>\n",
       "      <td>Stephen Lang|Jeff Daniels|Robert Duvall|Kevin ...</td>\n",
       "      <td>Ronald F. Maxwell</td>\n",
       "      <td>The nations heart was touched by...</td>\n",
       "      <td>The film centers mostly around the personal an...</td>\n",
       "      <td>214</td>\n",
       "      <td>Drama|History|War</td>\n",
       "      <td>Turner Pictures|Antietam Filmworks</td>\n",
       "      <td>2/21/2003</td>\n",
       "      <td>23</td>\n",
       "      <td>5.8</td>\n",
       "      <td>2003</td>\n",
       "    </tr>\n",
       "  </tbody>\n",
       "</table>\n",
       "</div>"
      ],
      "text/plain": [
       "        imdb_id  popularity    budget   revenue     original_title  \\\n",
       "1158  tt0279111    0.469518  56000000  12923936  Gods and Generals   \n",
       "\n",
       "                                                   cast           director  \\\n",
       "1158  Stephen Lang|Jeff Daniels|Robert Duvall|Kevin ...  Ronald F. Maxwell   \n",
       "\n",
       "                                  tagline  \\\n",
       "1158  The nations heart was touched by...   \n",
       "\n",
       "                                               overview  runtime  \\\n",
       "1158  The film centers mostly around the personal an...      214   \n",
       "\n",
       "                 genres                production_companies release_date  \\\n",
       "1158  Drama|History|War  Turner Pictures|Antietam Filmworks    2/21/2003   \n",
       "\n",
       "      vote_count  vote_average  release_year  \n",
       "1158          23           5.8          2003  "
      ]
     },
     "execution_count": 17,
     "metadata": {},
     "output_type": "execute_result"
    }
   ],
   "source": [
    "data.loc[(data['runtime'] == data['runtime'].max())]\n",
    "answer_ls.append(2)\n",
    "#answer_ls"
   ]
  },
  {
   "cell_type": "markdown",
   "metadata": {},
   "source": [
    "# 3. Какой из фильмов самый короткий (в минутах)\n",
    "Варианты ответов:\n",
    "\n",
    "1. Home on the Range\ttt0299172\n",
    "2. The Jungle Book 2\ttt0283426\n",
    "3. Winnie the Pooh\ttt1449283\n",
    "4. Corpse Bride\ttt0121164\n",
    "5. Hoodwinked!\ttt0443536"
   ]
  },
  {
   "cell_type": "code",
   "execution_count": 19,
   "metadata": {},
   "outputs": [
    {
     "data": {
      "text/plain": [
       "[4, 2, 3]"
      ]
     },
     "execution_count": 19,
     "metadata": {},
     "output_type": "execute_result"
    }
   ],
   "source": [
    "data.loc[(data['runtime'] == data['runtime'].min())]\n",
    "answer_ls.append(3)\n",
    "answer_ls"
   ]
  },
  {
   "cell_type": "markdown",
   "metadata": {},
   "source": [
    "# 4. Средняя длительность фильма?\n",
    "\n",
    "Варианты ответов:\n",
    "1. 115\n",
    "2. 110\n",
    "3. 105\n",
    "4. 120\n",
    "5. 100\n"
   ]
  },
  {
   "cell_type": "code",
   "execution_count": 20,
   "metadata": {},
   "outputs": [
    {
     "data": {
      "text/plain": [
       "109.65343915343915"
      ]
     },
     "metadata": {},
     "output_type": "display_data"
    }
   ],
   "source": [
    "display(data['runtime'].mean())\n",
    "answer_ls.append(2)"
   ]
  },
  {
   "cell_type": "markdown",
   "metadata": {},
   "source": [
    "# 5. Средняя длительность фильма по медиане?\n",
    "Варианты ответов:\n",
    "1. 106\n",
    "2. 112\n",
    "3. 101\n",
    "4. 120\n",
    "5. 115\n",
    "\n",
    "\n"
   ]
  },
  {
   "cell_type": "code",
   "execution_count": 21,
   "metadata": {},
   "outputs": [
    {
     "data": {
      "text/plain": [
       "106.5"
      ]
     },
     "metadata": {},
     "output_type": "display_data"
    },
    {
     "data": {
      "text/plain": [
       "[4, 2, 3, 2, 1]"
      ]
     },
     "execution_count": 21,
     "metadata": {},
     "output_type": "execute_result"
    }
   ],
   "source": [
    "display(data['runtime'].median())\n",
    "answer_ls.append(1)\n",
    "answer_ls"
   ]
  },
  {
   "cell_type": "markdown",
   "metadata": {},
   "source": [
    "# 6. Какой самый прибыльный фильм?\n",
    "Варианты ответов:\n",
    "1. The Avengers\ttt0848228\n",
    "2. Minions\ttt2293640\n",
    "3. Star Wars: The Force Awakens\ttt2488496\n",
    "4. Furious 7\ttt2820852\n",
    "5. Avatar\ttt0499549"
   ]
  },
  {
   "cell_type": "code",
   "execution_count": 28,
   "metadata": {},
   "outputs": [
    {
     "data": {
      "text/html": [
       "<div>\n",
       "<style scoped>\n",
       "    .dataframe tbody tr th:only-of-type {\n",
       "        vertical-align: middle;\n",
       "    }\n",
       "\n",
       "    .dataframe tbody tr th {\n",
       "        vertical-align: top;\n",
       "    }\n",
       "\n",
       "    .dataframe thead th {\n",
       "        text-align: right;\n",
       "    }\n",
       "</style>\n",
       "<table border=\"1\" class=\"dataframe\">\n",
       "  <thead>\n",
       "    <tr style=\"text-align: right;\">\n",
       "      <th></th>\n",
       "      <th>imdb_id</th>\n",
       "      <th>popularity</th>\n",
       "      <th>budget</th>\n",
       "      <th>revenue</th>\n",
       "      <th>original_title</th>\n",
       "      <th>cast</th>\n",
       "      <th>director</th>\n",
       "      <th>tagline</th>\n",
       "      <th>overview</th>\n",
       "      <th>runtime</th>\n",
       "      <th>genres</th>\n",
       "      <th>production_companies</th>\n",
       "      <th>release_date</th>\n",
       "      <th>vote_count</th>\n",
       "      <th>vote_average</th>\n",
       "      <th>release_year</th>\n",
       "      <th>pribil</th>\n",
       "    </tr>\n",
       "  </thead>\n",
       "  <tbody>\n",
       "    <tr>\n",
       "      <td>239</td>\n",
       "      <td>tt0499549</td>\n",
       "      <td>9.432768</td>\n",
       "      <td>237000000</td>\n",
       "      <td>2781505847</td>\n",
       "      <td>Avatar</td>\n",
       "      <td>Sam Worthington|Zoe Saldana|Sigourney Weaver|S...</td>\n",
       "      <td>James Cameron</td>\n",
       "      <td>Enter the World of Pandora.</td>\n",
       "      <td>In the 22nd century, a paraplegic Marine is di...</td>\n",
       "      <td>162</td>\n",
       "      <td>Action|Adventure|Fantasy|Science Fiction</td>\n",
       "      <td>Ingenious Film Partners|Twentieth Century Fox ...</td>\n",
       "      <td>12/10/2009</td>\n",
       "      <td>8458</td>\n",
       "      <td>7.1</td>\n",
       "      <td>2009</td>\n",
       "      <td>2544505847</td>\n",
       "    </tr>\n",
       "  </tbody>\n",
       "</table>\n",
       "</div>"
      ],
      "text/plain": [
       "       imdb_id  popularity     budget     revenue original_title  \\\n",
       "239  tt0499549    9.432768  237000000  2781505847         Avatar   \n",
       "\n",
       "                                                  cast       director  \\\n",
       "239  Sam Worthington|Zoe Saldana|Sigourney Weaver|S...  James Cameron   \n",
       "\n",
       "                         tagline  \\\n",
       "239  Enter the World of Pandora.   \n",
       "\n",
       "                                              overview  runtime  \\\n",
       "239  In the 22nd century, a paraplegic Marine is di...      162   \n",
       "\n",
       "                                       genres  \\\n",
       "239  Action|Adventure|Fantasy|Science Fiction   \n",
       "\n",
       "                                  production_companies release_date  \\\n",
       "239  Ingenious Film Partners|Twentieth Century Fox ...   12/10/2009   \n",
       "\n",
       "     vote_count  vote_average  release_year      pribil  \n",
       "239        8458           7.1          2009  2544505847  "
      ]
     },
     "execution_count": 28,
     "metadata": {},
     "output_type": "execute_result"
    }
   ],
   "source": [
    "#Внимание! Здесь и далее под «прибылью» или «убытками» понимается разность между сборами и бюджетом фильма.\n",
    "data['pribil'] = data['revenue'] - data['budget']\n",
    "data.loc[data['pribil'] == data['pribil'].max()]"
   ]
  },
  {
   "cell_type": "code",
   "execution_count": 22,
   "metadata": {},
   "outputs": [
    {
     "data": {
      "text/plain": [
       "[4, 2, 3, 2, 1, 5]"
      ]
     },
     "execution_count": 22,
     "metadata": {},
     "output_type": "execute_result"
    }
   ],
   "source": [
    "answer_ls.append(5)\n",
    "answer_ls"
   ]
  },
  {
   "cell_type": "markdown",
   "metadata": {},
   "source": [
    "# 7. Какой фильм самый убыточный?\n",
    "Варианты ответов:\n",
    "1. Supernova tt0134983\n",
    "2. The Warrior's Way tt1032751\n",
    "3. Flushed Away\ttt0424095\n",
    "4. The Adventures of Pluto Nash\ttt0180052\n",
    "5. The Lone Ranger\ttt1210819"
   ]
  },
  {
   "cell_type": "code",
   "execution_count": 35,
   "metadata": {},
   "outputs": [
    {
     "data": {
      "text/html": [
       "<div>\n",
       "<style scoped>\n",
       "    .dataframe tbody tr th:only-of-type {\n",
       "        vertical-align: middle;\n",
       "    }\n",
       "\n",
       "    .dataframe tbody tr th {\n",
       "        vertical-align: top;\n",
       "    }\n",
       "\n",
       "    .dataframe thead th {\n",
       "        text-align: right;\n",
       "    }\n",
       "</style>\n",
       "<table border=\"1\" class=\"dataframe\">\n",
       "  <thead>\n",
       "    <tr style=\"text-align: right;\">\n",
       "      <th></th>\n",
       "      <th>imdb_id</th>\n",
       "      <th>popularity</th>\n",
       "      <th>budget</th>\n",
       "      <th>revenue</th>\n",
       "      <th>original_title</th>\n",
       "      <th>cast</th>\n",
       "      <th>director</th>\n",
       "      <th>tagline</th>\n",
       "      <th>overview</th>\n",
       "      <th>runtime</th>\n",
       "      <th>genres</th>\n",
       "      <th>production_companies</th>\n",
       "      <th>release_date</th>\n",
       "      <th>vote_count</th>\n",
       "      <th>vote_average</th>\n",
       "      <th>release_year</th>\n",
       "      <th>pribil</th>\n",
       "    </tr>\n",
       "  </thead>\n",
       "  <tbody>\n",
       "    <tr>\n",
       "      <td>491</td>\n",
       "      <td>tt1032751</td>\n",
       "      <td>0.25054</td>\n",
       "      <td>425000000</td>\n",
       "      <td>11087569</td>\n",
       "      <td>The Warrior's Way</td>\n",
       "      <td>Kate Bosworth|Jang Dong-gun|Geoffrey Rush|Dann...</td>\n",
       "      <td>Sngmoo Lee</td>\n",
       "      <td>Assassin. Hero. Legend.</td>\n",
       "      <td>An Asian assassin (Dong-gun Jang) is forced to...</td>\n",
       "      <td>100</td>\n",
       "      <td>Adventure|Fantasy|Action|Western|Thriller</td>\n",
       "      <td>Boram Entertainment Inc.</td>\n",
       "      <td>12/2/2010</td>\n",
       "      <td>74</td>\n",
       "      <td>6.4</td>\n",
       "      <td>2010</td>\n",
       "      <td>-413912431</td>\n",
       "    </tr>\n",
       "  </tbody>\n",
       "</table>\n",
       "</div>"
      ],
      "text/plain": [
       "       imdb_id  popularity     budget   revenue     original_title  \\\n",
       "491  tt1032751     0.25054  425000000  11087569  The Warrior's Way   \n",
       "\n",
       "                                                  cast    director  \\\n",
       "491  Kate Bosworth|Jang Dong-gun|Geoffrey Rush|Dann...  Sngmoo Lee   \n",
       "\n",
       "                     tagline  \\\n",
       "491  Assassin. Hero. Legend.   \n",
       "\n",
       "                                              overview  runtime  \\\n",
       "491  An Asian assassin (Dong-gun Jang) is forced to...      100   \n",
       "\n",
       "                                        genres      production_companies  \\\n",
       "491  Adventure|Fantasy|Action|Western|Thriller  Boram Entertainment Inc.   \n",
       "\n",
       "    release_date  vote_count  vote_average  release_year     pribil  \n",
       "491    12/2/2010          74           6.4          2010 -413912431  "
      ]
     },
     "execution_count": 35,
     "metadata": {},
     "output_type": "execute_result"
    }
   ],
   "source": [
    "data.loc[data.pribil == data.pribil.min()] \n",
    "answer_ls.append(2)"
   ]
  },
  {
   "cell_type": "markdown",
   "metadata": {},
   "source": [
    "# 8. Сколько всего фильмов в прибыли?\n",
    "Варианты ответов:\n",
    "1. 1478\n",
    "2. 1520\n",
    "3. 1241\n",
    "4. 1135\n",
    "5. 1398\n"
   ]
  },
  {
   "cell_type": "code",
   "execution_count": 36,
   "metadata": {},
   "outputs": [],
   "source": [
    "data[(data['pribil'] > 0)].count()\n",
    "answer_ls.append(1)\n"
   ]
  },
  {
   "cell_type": "markdown",
   "metadata": {},
   "source": [
    "# 9. Самый прибыльный фильм в 2008 году?\n",
    "Варианты ответов:\n",
    "1. Madagascar: Escape 2 Africa\ttt0479952\n",
    "2. Iron Man\ttt0371746\n",
    "3. Kung Fu Panda\ttt0441773\n",
    "4. The Dark Knight\ttt0468569\n",
    "5. Mamma Mia!\ttt0795421"
   ]
  },
  {
   "cell_type": "code",
   "execution_count": 38,
   "metadata": {
    "scrolled": false
   },
   "outputs": [
    {
     "data": {
      "text/html": [
       "<div>\n",
       "<style scoped>\n",
       "    .dataframe tbody tr th:only-of-type {\n",
       "        vertical-align: middle;\n",
       "    }\n",
       "\n",
       "    .dataframe tbody tr th {\n",
       "        vertical-align: top;\n",
       "    }\n",
       "\n",
       "    .dataframe thead th {\n",
       "        text-align: right;\n",
       "    }\n",
       "</style>\n",
       "<table border=\"1\" class=\"dataframe\">\n",
       "  <thead>\n",
       "    <tr style=\"text-align: right;\">\n",
       "      <th></th>\n",
       "      <th>imdb_id</th>\n",
       "      <th>popularity</th>\n",
       "      <th>budget</th>\n",
       "      <th>revenue</th>\n",
       "      <th>original_title</th>\n",
       "      <th>cast</th>\n",
       "      <th>director</th>\n",
       "      <th>tagline</th>\n",
       "      <th>overview</th>\n",
       "      <th>runtime</th>\n",
       "      <th>genres</th>\n",
       "      <th>production_companies</th>\n",
       "      <th>release_date</th>\n",
       "      <th>vote_count</th>\n",
       "      <th>vote_average</th>\n",
       "      <th>release_year</th>\n",
       "      <th>pribil</th>\n",
       "    </tr>\n",
       "  </thead>\n",
       "  <tbody>\n",
       "    <tr>\n",
       "      <td>600</td>\n",
       "      <td>tt0468569</td>\n",
       "      <td>8.466668</td>\n",
       "      <td>185000000</td>\n",
       "      <td>1001921825</td>\n",
       "      <td>The Dark Knight</td>\n",
       "      <td>Christian Bale|Michael Caine|Heath Ledger|Aaro...</td>\n",
       "      <td>Christopher Nolan</td>\n",
       "      <td>Why So Serious?</td>\n",
       "      <td>Batman raises the stakes in his war on crime. ...</td>\n",
       "      <td>152</td>\n",
       "      <td>Drama|Action|Crime|Thriller</td>\n",
       "      <td>DC Comics|Legendary Pictures|Warner Bros.|Syncopy</td>\n",
       "      <td>7/16/2008</td>\n",
       "      <td>8432</td>\n",
       "      <td>8.1</td>\n",
       "      <td>2008</td>\n",
       "      <td>816921825</td>\n",
       "    </tr>\n",
       "    <tr>\n",
       "      <td>604</td>\n",
       "      <td>tt0367882</td>\n",
       "      <td>3.161670</td>\n",
       "      <td>185000000</td>\n",
       "      <td>786636033</td>\n",
       "      <td>Indiana Jones and the Kingdom of the Crystal S...</td>\n",
       "      <td>Harrison Ford|Cate Blanchett|Shia LaBeouf|Ray ...</td>\n",
       "      <td>Steven Spielberg</td>\n",
       "      <td>The adventure continues . . .</td>\n",
       "      <td>Set during the Cold War, the Soviets â€“ led b...</td>\n",
       "      <td>122</td>\n",
       "      <td>Adventure|Action</td>\n",
       "      <td>Lucasfilm|Paramount Pictures</td>\n",
       "      <td>5/21/2008</td>\n",
       "      <td>1537</td>\n",
       "      <td>5.6</td>\n",
       "      <td>2008</td>\n",
       "      <td>601636033</td>\n",
       "    </tr>\n",
       "    <tr>\n",
       "      <td>608</td>\n",
       "      <td>tt0795421</td>\n",
       "      <td>2.543535</td>\n",
       "      <td>52000000</td>\n",
       "      <td>609841637</td>\n",
       "      <td>Mamma Mia!</td>\n",
       "      <td>Meryl Streep|Pierce Brosnan|Amanda Seyfried|Co...</td>\n",
       "      <td>Phyllida Lloyd</td>\n",
       "      <td>Take a trip down the aisle you'll never forget</td>\n",
       "      <td>Set on an idyllic Greek island, the plot serve...</td>\n",
       "      <td>108</td>\n",
       "      <td>Comedy|Romance</td>\n",
       "      <td>Universal Pictures|Internationale Filmprodukti...</td>\n",
       "      <td>6/30/2008</td>\n",
       "      <td>805</td>\n",
       "      <td>6.2</td>\n",
       "      <td>2008</td>\n",
       "      <td>557841637</td>\n",
       "    </tr>\n",
       "    <tr>\n",
       "      <td>607</td>\n",
       "      <td>tt0441773</td>\n",
       "      <td>3.036644</td>\n",
       "      <td>130000000</td>\n",
       "      <td>631744560</td>\n",
       "      <td>Kung Fu Panda</td>\n",
       "      <td>Jack Black|Dustin Hoffman|Angelina Jolie|Jacki...</td>\n",
       "      <td>Mark Osborne|John Stevenson</td>\n",
       "      <td>Prepare for awesomeness.</td>\n",
       "      <td>When the Valley of Peace is threatened, lazy P...</td>\n",
       "      <td>90</td>\n",
       "      <td>Animation|Family</td>\n",
       "      <td>DreamWorks Animation</td>\n",
       "      <td>6/4/2008</td>\n",
       "      <td>1938</td>\n",
       "      <td>6.8</td>\n",
       "      <td>2008</td>\n",
       "      <td>501744560</td>\n",
       "    </tr>\n",
       "    <tr>\n",
       "      <td>622</td>\n",
       "      <td>tt0448157</td>\n",
       "      <td>1.800286</td>\n",
       "      <td>150000000</td>\n",
       "      <td>624029371</td>\n",
       "      <td>Hancock</td>\n",
       "      <td>Will Smith|Charlize Theron|Jason Bateman|Jae H...</td>\n",
       "      <td>Peter Berg</td>\n",
       "      <td>Bad Behavior. Bad Attitude. Real Hero.</td>\n",
       "      <td>Hancock is a down-and-out superhero who's forc...</td>\n",
       "      <td>92</td>\n",
       "      <td>Fantasy|Action</td>\n",
       "      <td>Columbia Pictures|Weed Road Pictures|Forward P...</td>\n",
       "      <td>7/1/2008</td>\n",
       "      <td>1764</td>\n",
       "      <td>6.0</td>\n",
       "      <td>2008</td>\n",
       "      <td>474029371</td>\n",
       "    </tr>\n",
       "    <tr>\n",
       "      <td>...</td>\n",
       "      <td>...</td>\n",
       "      <td>...</td>\n",
       "      <td>...</td>\n",
       "      <td>...</td>\n",
       "      <td>...</td>\n",
       "      <td>...</td>\n",
       "      <td>...</td>\n",
       "      <td>...</td>\n",
       "      <td>...</td>\n",
       "      <td>...</td>\n",
       "      <td>...</td>\n",
       "      <td>...</td>\n",
       "      <td>...</td>\n",
       "      <td>...</td>\n",
       "      <td>...</td>\n",
       "      <td>...</td>\n",
       "      <td>...</td>\n",
       "    </tr>\n",
       "    <tr>\n",
       "      <td>669</td>\n",
       "      <td>tt0811080</td>\n",
       "      <td>0.879116</td>\n",
       "      <td>120000000</td>\n",
       "      <td>93945766</td>\n",
       "      <td>Speed Racer</td>\n",
       "      <td>Emile Hirsch|Christina Ricci|Matthew Fox|Susan...</td>\n",
       "      <td>Lana Wachowski|Lilly Wachowski</td>\n",
       "      <td>Go!</td>\n",
       "      <td>Speed Racer is the tale of a young and brillia...</td>\n",
       "      <td>135</td>\n",
       "      <td>Family|Action|Science Fiction</td>\n",
       "      <td>Village Roadshow Pictures|Studio Babelsberg|An...</td>\n",
       "      <td>5/9/2008</td>\n",
       "      <td>194</td>\n",
       "      <td>5.6</td>\n",
       "      <td>2008</td>\n",
       "      <td>-26054234</td>\n",
       "    </tr>\n",
       "    <tr>\n",
       "      <td>706</td>\n",
       "      <td>tt0469903</td>\n",
       "      <td>0.450911</td>\n",
       "      <td>40000000</td>\n",
       "      <td>9793496</td>\n",
       "      <td>The Express</td>\n",
       "      <td>Rob Brown|Dennis Quaid|Darrin Henson|Charles S...</td>\n",
       "      <td>Gary Fleder</td>\n",
       "      <td>He changed our country... one yard at a time.</td>\n",
       "      <td>Based on the incredible true story, The Expres...</td>\n",
       "      <td>130</td>\n",
       "      <td>Drama</td>\n",
       "      <td>Davis Entertainment|Relativity Media|IDEA Film...</td>\n",
       "      <td>10/10/2008</td>\n",
       "      <td>39</td>\n",
       "      <td>7.1</td>\n",
       "      <td>2008</td>\n",
       "      <td>-30206504</td>\n",
       "    </tr>\n",
       "    <tr>\n",
       "      <td>683</td>\n",
       "      <td>tt0970411</td>\n",
       "      <td>0.721663</td>\n",
       "      <td>55000000</td>\n",
       "      <td>17869048</td>\n",
       "      <td>City of Ember</td>\n",
       "      <td>Saoirse Ronan|Harry Treadaway|Mary Kay Place|B...</td>\n",
       "      <td>Gil Kenan</td>\n",
       "      <td>Escape is the only option</td>\n",
       "      <td>For generations, the people of the City of Emb...</td>\n",
       "      <td>90</td>\n",
       "      <td>Adventure|Family|Fantasy</td>\n",
       "      <td>Playtone|Walden Media</td>\n",
       "      <td>10/7/2008</td>\n",
       "      <td>358</td>\n",
       "      <td>6.1</td>\n",
       "      <td>2008</td>\n",
       "      <td>-37130952</td>\n",
       "    </tr>\n",
       "    <tr>\n",
       "      <td>680</td>\n",
       "      <td>tt0462465</td>\n",
       "      <td>0.749838</td>\n",
       "      <td>50000000</td>\n",
       "      <td>7033683</td>\n",
       "      <td>Outlander</td>\n",
       "      <td>Jim Caviezel|Sophia Myles|Jack Huston|Ron Perl...</td>\n",
       "      <td>Howard McCain</td>\n",
       "      <td>It destroyed his world. He won't let it destro...</td>\n",
       "      <td>During the reign of the Vikings, a man from an...</td>\n",
       "      <td>115</td>\n",
       "      <td>Fantasy|Action|Science Fiction</td>\n",
       "      <td>Ascendant Pictures|Rising Star|VIP Medienfonds...</td>\n",
       "      <td>4/24/2008</td>\n",
       "      <td>167</td>\n",
       "      <td>6.0</td>\n",
       "      <td>2008</td>\n",
       "      <td>-42966317</td>\n",
       "    </tr>\n",
       "    <tr>\n",
       "      <td>637</td>\n",
       "      <td>tt0455824</td>\n",
       "      <td>1.468543</td>\n",
       "      <td>130000000</td>\n",
       "      <td>49554002</td>\n",
       "      <td>Australia</td>\n",
       "      <td>Nicole Kidman|Hugh Jackman|Essie Davis|David W...</td>\n",
       "      <td>Baz Luhrmann</td>\n",
       "      <td>Welcome to Australia!</td>\n",
       "      <td>Set in northern Australia before World War II,...</td>\n",
       "      <td>165</td>\n",
       "      <td>Drama</td>\n",
       "      <td>Bazmark Films|Ingenious Film Partners|Twentiet...</td>\n",
       "      <td>11/18/2008</td>\n",
       "      <td>411</td>\n",
       "      <td>6.3</td>\n",
       "      <td>2008</td>\n",
       "      <td>-80445998</td>\n",
       "    </tr>\n",
       "  </tbody>\n",
       "</table>\n",
       "<p>121 rows × 17 columns</p>\n",
       "</div>"
      ],
      "text/plain": [
       "       imdb_id  popularity     budget     revenue  \\\n",
       "600  tt0468569    8.466668  185000000  1001921825   \n",
       "604  tt0367882    3.161670  185000000   786636033   \n",
       "608  tt0795421    2.543535   52000000   609841637   \n",
       "607  tt0441773    3.036644  130000000   631744560   \n",
       "622  tt0448157    1.800286  150000000   624029371   \n",
       "..         ...         ...        ...         ...   \n",
       "669  tt0811080    0.879116  120000000    93945766   \n",
       "706  tt0469903    0.450911   40000000     9793496   \n",
       "683  tt0970411    0.721663   55000000    17869048   \n",
       "680  tt0462465    0.749838   50000000     7033683   \n",
       "637  tt0455824    1.468543  130000000    49554002   \n",
       "\n",
       "                                        original_title  \\\n",
       "600                                    The Dark Knight   \n",
       "604  Indiana Jones and the Kingdom of the Crystal S...   \n",
       "608                                         Mamma Mia!   \n",
       "607                                      Kung Fu Panda   \n",
       "622                                            Hancock   \n",
       "..                                                 ...   \n",
       "669                                        Speed Racer   \n",
       "706                                        The Express   \n",
       "683                                      City of Ember   \n",
       "680                                          Outlander   \n",
       "637                                          Australia   \n",
       "\n",
       "                                                  cast  \\\n",
       "600  Christian Bale|Michael Caine|Heath Ledger|Aaro...   \n",
       "604  Harrison Ford|Cate Blanchett|Shia LaBeouf|Ray ...   \n",
       "608  Meryl Streep|Pierce Brosnan|Amanda Seyfried|Co...   \n",
       "607  Jack Black|Dustin Hoffman|Angelina Jolie|Jacki...   \n",
       "622  Will Smith|Charlize Theron|Jason Bateman|Jae H...   \n",
       "..                                                 ...   \n",
       "669  Emile Hirsch|Christina Ricci|Matthew Fox|Susan...   \n",
       "706  Rob Brown|Dennis Quaid|Darrin Henson|Charles S...   \n",
       "683  Saoirse Ronan|Harry Treadaway|Mary Kay Place|B...   \n",
       "680  Jim Caviezel|Sophia Myles|Jack Huston|Ron Perl...   \n",
       "637  Nicole Kidman|Hugh Jackman|Essie Davis|David W...   \n",
       "\n",
       "                           director  \\\n",
       "600               Christopher Nolan   \n",
       "604                Steven Spielberg   \n",
       "608                  Phyllida Lloyd   \n",
       "607     Mark Osborne|John Stevenson   \n",
       "622                      Peter Berg   \n",
       "..                              ...   \n",
       "669  Lana Wachowski|Lilly Wachowski   \n",
       "706                     Gary Fleder   \n",
       "683                       Gil Kenan   \n",
       "680                   Howard McCain   \n",
       "637                    Baz Luhrmann   \n",
       "\n",
       "                                               tagline  \\\n",
       "600                                    Why So Serious?   \n",
       "604                      The adventure continues . . .   \n",
       "608     Take a trip down the aisle you'll never forget   \n",
       "607                           Prepare for awesomeness.   \n",
       "622             Bad Behavior. Bad Attitude. Real Hero.   \n",
       "..                                                 ...   \n",
       "669                                                Go!   \n",
       "706      He changed our country... one yard at a time.   \n",
       "683                          Escape is the only option   \n",
       "680  It destroyed his world. He won't let it destro...   \n",
       "637                              Welcome to Australia!   \n",
       "\n",
       "                                              overview  runtime  \\\n",
       "600  Batman raises the stakes in his war on crime. ...      152   \n",
       "604  Set during the Cold War, the Soviets â€“ led b...      122   \n",
       "608  Set on an idyllic Greek island, the plot serve...      108   \n",
       "607  When the Valley of Peace is threatened, lazy P...       90   \n",
       "622  Hancock is a down-and-out superhero who's forc...       92   \n",
       "..                                                 ...      ...   \n",
       "669  Speed Racer is the tale of a young and brillia...      135   \n",
       "706  Based on the incredible true story, The Expres...      130   \n",
       "683  For generations, the people of the City of Emb...       90   \n",
       "680  During the reign of the Vikings, a man from an...      115   \n",
       "637  Set in northern Australia before World War II,...      165   \n",
       "\n",
       "                             genres  \\\n",
       "600     Drama|Action|Crime|Thriller   \n",
       "604                Adventure|Action   \n",
       "608                  Comedy|Romance   \n",
       "607                Animation|Family   \n",
       "622                  Fantasy|Action   \n",
       "..                              ...   \n",
       "669   Family|Action|Science Fiction   \n",
       "706                           Drama   \n",
       "683        Adventure|Family|Fantasy   \n",
       "680  Fantasy|Action|Science Fiction   \n",
       "637                           Drama   \n",
       "\n",
       "                                  production_companies release_date  \\\n",
       "600  DC Comics|Legendary Pictures|Warner Bros.|Syncopy    7/16/2008   \n",
       "604                       Lucasfilm|Paramount Pictures    5/21/2008   \n",
       "608  Universal Pictures|Internationale Filmprodukti...    6/30/2008   \n",
       "607                               DreamWorks Animation     6/4/2008   \n",
       "622  Columbia Pictures|Weed Road Pictures|Forward P...     7/1/2008   \n",
       "..                                                 ...          ...   \n",
       "669  Village Roadshow Pictures|Studio Babelsberg|An...     5/9/2008   \n",
       "706  Davis Entertainment|Relativity Media|IDEA Film...   10/10/2008   \n",
       "683                              Playtone|Walden Media    10/7/2008   \n",
       "680  Ascendant Pictures|Rising Star|VIP Medienfonds...    4/24/2008   \n",
       "637  Bazmark Films|Ingenious Film Partners|Twentiet...   11/18/2008   \n",
       "\n",
       "     vote_count  vote_average  release_year     pribil  \n",
       "600        8432           8.1          2008  816921825  \n",
       "604        1537           5.6          2008  601636033  \n",
       "608         805           6.2          2008  557841637  \n",
       "607        1938           6.8          2008  501744560  \n",
       "622        1764           6.0          2008  474029371  \n",
       "..          ...           ...           ...        ...  \n",
       "669         194           5.6          2008  -26054234  \n",
       "706          39           7.1          2008  -30206504  \n",
       "683         358           6.1          2008  -37130952  \n",
       "680         167           6.0          2008  -42966317  \n",
       "637         411           6.3          2008  -80445998  \n",
       "\n",
       "[121 rows x 17 columns]"
      ]
     },
     "execution_count": 38,
     "metadata": {},
     "output_type": "execute_result"
    }
   ],
   "source": [
    "data.loc[(data['release_year'] == 2008)].sort_values(by=['pribil'],ascending = [False])\n",
    "answer_ls.append(4)"
   ]
  },
  {
   "cell_type": "code",
   "execution_count": 39,
   "metadata": {},
   "outputs": [
    {
     "data": {
      "text/plain": [
       "[4, 2, 3, 2, 1, 5, 2, 1, 4]"
      ]
     },
     "execution_count": 39,
     "metadata": {},
     "output_type": "execute_result"
    }
   ],
   "source": [
    "answer_ls\n"
   ]
  },
  {
   "cell_type": "markdown",
   "metadata": {},
   "source": [
    "# 10. Самый убыточный фильм за период с 2012 по 2014 (включительно)?\n",
    "Варианты ответов:\n",
    "1. Winter's Tale\ttt1837709\n",
    "2. Stolen\ttt1656186\n",
    "3. Broken City\ttt1235522\n",
    "4. Upside Down\ttt1374992\n",
    "5. The Lone Ranger\ttt1210819\n"
   ]
  },
  {
   "cell_type": "code",
   "execution_count": 41,
   "metadata": {},
   "outputs": [
    {
     "data": {
      "text/html": [
       "<div>\n",
       "<style scoped>\n",
       "    .dataframe tbody tr th:only-of-type {\n",
       "        vertical-align: middle;\n",
       "    }\n",
       "\n",
       "    .dataframe tbody tr th {\n",
       "        vertical-align: top;\n",
       "    }\n",
       "\n",
       "    .dataframe thead th {\n",
       "        text-align: right;\n",
       "    }\n",
       "</style>\n",
       "<table border=\"1\" class=\"dataframe\">\n",
       "  <thead>\n",
       "    <tr style=\"text-align: right;\">\n",
       "      <th></th>\n",
       "      <th>imdb_id</th>\n",
       "      <th>popularity</th>\n",
       "      <th>budget</th>\n",
       "      <th>revenue</th>\n",
       "      <th>original_title</th>\n",
       "      <th>cast</th>\n",
       "      <th>director</th>\n",
       "      <th>tagline</th>\n",
       "      <th>overview</th>\n",
       "      <th>runtime</th>\n",
       "      <th>genres</th>\n",
       "      <th>production_companies</th>\n",
       "      <th>release_date</th>\n",
       "      <th>vote_count</th>\n",
       "      <th>vote_average</th>\n",
       "      <th>release_year</th>\n",
       "      <th>pribil</th>\n",
       "    </tr>\n",
       "  </thead>\n",
       "  <tbody>\n",
       "    <tr>\n",
       "      <td>1246</td>\n",
       "      <td>tt1210819</td>\n",
       "      <td>1.21451</td>\n",
       "      <td>255000000</td>\n",
       "      <td>89289910</td>\n",
       "      <td>The Lone Ranger</td>\n",
       "      <td>Johnny Depp|Armie Hammer|William Fichtner|Hele...</td>\n",
       "      <td>Gore Verbinski</td>\n",
       "      <td>Never Take Off the Mask</td>\n",
       "      <td>The Texas Rangers chase down a gang of outlaws...</td>\n",
       "      <td>149</td>\n",
       "      <td>Action|Adventure|Western</td>\n",
       "      <td>Walt Disney Pictures|Jerry Bruckheimer Films|I...</td>\n",
       "      <td>7/3/2013</td>\n",
       "      <td>1607</td>\n",
       "      <td>6.0</td>\n",
       "      <td>2013</td>\n",
       "      <td>-165710090</td>\n",
       "    </tr>\n",
       "  </tbody>\n",
       "</table>\n",
       "</div>"
      ],
      "text/plain": [
       "        imdb_id  popularity     budget   revenue   original_title  \\\n",
       "1246  tt1210819     1.21451  255000000  89289910  The Lone Ranger   \n",
       "\n",
       "                                                   cast        director  \\\n",
       "1246  Johnny Depp|Armie Hammer|William Fichtner|Hele...  Gore Verbinski   \n",
       "\n",
       "                      tagline  \\\n",
       "1246  Never Take Off the Mask   \n",
       "\n",
       "                                               overview  runtime  \\\n",
       "1246  The Texas Rangers chase down a gang of outlaws...      149   \n",
       "\n",
       "                        genres  \\\n",
       "1246  Action|Adventure|Western   \n",
       "\n",
       "                                   production_companies release_date  \\\n",
       "1246  Walt Disney Pictures|Jerry Bruckheimer Films|I...     7/3/2013   \n",
       "\n",
       "      vote_count  vote_average  release_year     pribil  \n",
       "1246        1607           6.0          2013 -165710090  "
      ]
     },
     "execution_count": 41,
     "metadata": {},
     "output_type": "execute_result"
    }
   ],
   "source": [
    "data[data.pribil == ((data[(data.release_year >= 2012) & (data.release_year <= 2014)].pribil.min()))]\n",
    "\n",
    "answer_ls.append(5)"
   ]
  },
  {
   "cell_type": "code",
   "execution_count": 42,
   "metadata": {},
   "outputs": [
    {
     "data": {
      "text/plain": [
       "[4, 2, 3, 2, 1, 5, 2, 1, 4, 5]"
      ]
     },
     "execution_count": 42,
     "metadata": {},
     "output_type": "execute_result"
    }
   ],
   "source": [
    "answer_ls"
   ]
  },
  {
   "cell_type": "markdown",
   "metadata": {},
   "source": [
    "# 11. Какого жанра фильмов больше всего?\n",
    "Варианты ответов:\n",
    "1. Action\n",
    "2. Adventure\n",
    "3. Drama\n",
    "4. Comedy\n",
    "5. Thriller"
   ]
  },
  {
   "cell_type": "code",
   "execution_count": 44,
   "metadata": {},
   "outputs": [
    {
     "data": {
      "text/plain": [
       "Drama              782\n",
       "Comedy             683\n",
       "Thriller           597\n",
       "Action             583\n",
       "Adventure          416\n",
       "Crime              315\n",
       "Romance            308\n",
       "Family             260\n",
       "Science Fiction    248\n",
       "Fantasy            223\n",
       "Horror             176\n",
       "Mystery            168\n",
       "Animation          139\n",
       "Music               64\n",
       "History             62\n",
       "War                 58\n",
       "Western             20\n",
       "Documentary          8\n",
       "Foreign              2\n",
       "dtype: int64"
      ]
     },
     "execution_count": 44,
     "metadata": {},
     "output_type": "execute_result"
    }
   ],
   "source": [
    "pd.DataFrame(data.genres.str.split('|').tolist()).stack().value_counts()\n",
    "answer_ls.append(3)"
   ]
  },
  {
   "cell_type": "markdown",
   "metadata": {},
   "source": [
    "# 12. Какого жанра среди прибыльных фильмов больше всего?\n",
    "Варианты ответов:\n",
    "1. Drama\n",
    "2. Comedy\n",
    "3. Action\n",
    "4. Thriller\n",
    "5. Adventure"
   ]
  },
  {
   "cell_type": "code",
   "execution_count": 46,
   "metadata": {},
   "outputs": [
    {
     "data": {
      "text/plain": [
       "Drama              560\n",
       "Comedy             551\n",
       "Thriller           446\n",
       "Action             444\n",
       "Adventure          337\n",
       "Romance            242\n",
       "Crime              231\n",
       "Family             226\n",
       "Science Fiction    195\n",
       "Fantasy            188\n",
       "Horror             150\n",
       "Animation          120\n",
       "Mystery            119\n",
       "Music               47\n",
       "History             46\n",
       "War                 41\n",
       "Western             12\n",
       "Documentary          7\n",
       "dtype: int64"
      ]
     },
     "execution_count": 46,
     "metadata": {},
     "output_type": "execute_result"
    }
   ],
   "source": [
    "pd.DataFrame(data[data.pribil>0].genres.str.split('|').tolist()).stack().value_counts()\n",
    "answer_ls.append(1)"
   ]
  },
  {
   "cell_type": "markdown",
   "metadata": {},
   "source": [
    "# 13. Кто из режиссеров снял больше всего фильмов?\n",
    "Варианты ответов:\n",
    "1. Steven Spielberg\n",
    "2. Ridley Scott \n",
    "3. Steven Soderbergh\n",
    "4. Christopher Nolan\n",
    "5. Clint Eastwood"
   ]
  },
  {
   "cell_type": "code",
   "execution_count": 68,
   "metadata": {},
   "outputs": [
    {
     "data": {
      "text/plain": [
       "Steven Soderbergh                            13\n",
       "Ridley Scott                                 12\n",
       "Clint Eastwood                               12\n",
       "Shawn Levy                                   10\n",
       "Steven Spielberg                             10\n",
       "                                             ..\n",
       "Tom Hanks                                     1\n",
       "Michael Cuesta                                1\n",
       "Mark Andrews|Steve Purcell|Brenda Chapman     1\n",
       "Chris Sivertson                               1\n",
       "Derrick Borte                                 1\n",
       "Name: director, Length: 958, dtype: int64"
      ]
     },
     "execution_count": 68,
     "metadata": {},
     "output_type": "execute_result"
    }
   ],
   "source": [
    "data['director'].value_counts()"
   ]
  },
  {
   "cell_type": "code",
   "execution_count": 47,
   "metadata": {},
   "outputs": [],
   "source": [
    "answer_ls.append(1)"
   ]
  },
  {
   "cell_type": "markdown",
   "metadata": {},
   "source": [
    "# 14. Кто из режиссеров снял больше всего Прибыльных фильмов?\n",
    "Варианты ответов:\n",
    "1. Steven Soderbergh\n",
    "2. Clint Eastwood\n",
    "3. Steven Spielberg\n",
    "4. Ridley Scott\n",
    "5. Christopher Nolan"
   ]
  },
  {
   "cell_type": "code",
   "execution_count": 49,
   "metadata": {},
   "outputs": [
    {
     "data": {
      "text/html": [
       "<div>\n",
       "<style scoped>\n",
       "    .dataframe tbody tr th:only-of-type {\n",
       "        vertical-align: middle;\n",
       "    }\n",
       "\n",
       "    .dataframe tbody tr th {\n",
       "        vertical-align: top;\n",
       "    }\n",
       "\n",
       "    .dataframe thead th {\n",
       "        text-align: right;\n",
       "    }\n",
       "</style>\n",
       "<table border=\"1\" class=\"dataframe\">\n",
       "  <thead>\n",
       "    <tr style=\"text-align: right;\">\n",
       "      <th></th>\n",
       "      <th>director</th>\n",
       "    </tr>\n",
       "  </thead>\n",
       "  <tbody>\n",
       "    <tr>\n",
       "      <td>Ridley Scott</td>\n",
       "      <td>12</td>\n",
       "    </tr>\n",
       "    <tr>\n",
       "      <td>Steven Spielberg</td>\n",
       "      <td>10</td>\n",
       "    </tr>\n",
       "    <tr>\n",
       "      <td>Steven Soderbergh</td>\n",
       "      <td>10</td>\n",
       "    </tr>\n",
       "    <tr>\n",
       "      <td>Clint Eastwood</td>\n",
       "      <td>10</td>\n",
       "    </tr>\n",
       "    <tr>\n",
       "      <td>Shawn Levy</td>\n",
       "      <td>9</td>\n",
       "    </tr>\n",
       "    <tr>\n",
       "      <td>...</td>\n",
       "      <td>...</td>\n",
       "    </tr>\n",
       "    <tr>\n",
       "      <td>Mike McCoy|Scott Waugh</td>\n",
       "      <td>1</td>\n",
       "    </tr>\n",
       "    <tr>\n",
       "      <td>Jon Amiel</td>\n",
       "      <td>1</td>\n",
       "    </tr>\n",
       "    <tr>\n",
       "      <td>Jeff Wadlow</td>\n",
       "      <td>1</td>\n",
       "    </tr>\n",
       "    <tr>\n",
       "      <td>Graham Annable|Anthony Stacchi</td>\n",
       "      <td>1</td>\n",
       "    </tr>\n",
       "    <tr>\n",
       "      <td>Chris Buck|Jennifer Lee</td>\n",
       "      <td>1</td>\n",
       "    </tr>\n",
       "  </tbody>\n",
       "</table>\n",
       "<p>774 rows × 1 columns</p>\n",
       "</div>"
      ],
      "text/plain": [
       "                                director\n",
       "Ridley Scott                          12\n",
       "Steven Spielberg                      10\n",
       "Steven Soderbergh                     10\n",
       "Clint Eastwood                        10\n",
       "Shawn Levy                             9\n",
       "...                                  ...\n",
       "Mike McCoy|Scott Waugh                 1\n",
       "Jon Amiel                              1\n",
       "Jeff Wadlow                            1\n",
       "Graham Annable|Anthony Stacchi         1\n",
       "Chris Buck|Jennifer Lee                1\n",
       "\n",
       "[774 rows x 1 columns]"
      ]
     },
     "execution_count": 49,
     "metadata": {},
     "output_type": "execute_result"
    }
   ],
   "source": [
    "pd.DataFrame(data[data.pribil>0].director.value_counts())\n",
    "answer_ls.append(4)"
   ]
  },
  {
   "cell_type": "markdown",
   "metadata": {},
   "source": [
    "# 15. Кто из режиссеров принес больше всего прибыли?\n",
    "Варианты ответов:\n",
    "1. Steven Spielberg\n",
    "2. Christopher Nolan\n",
    "3. David Yates\n",
    "4. James Cameron\n",
    "5. Peter Jackson\n"
   ]
  },
  {
   "cell_type": "code",
   "execution_count": 95,
   "metadata": {},
   "outputs": [
    {
     "data": {
      "text/plain": [
       "director\n",
       "Peter Jackson            5202593685\n",
       "David Yates              3379295625\n",
       "Christopher Nolan        3162548502\n",
       "J.J. Abrams              2839169916\n",
       "Michael Bay              2760938960\n",
       "                            ...    \n",
       "David Bowers|Sam Fell     -84540684\n",
       "Peter Hyams               -86956545\n",
       "Ron Underwood             -92896027\n",
       "James L. Brooks           -96289726\n",
       "Sngmoo Lee               -413912431\n",
       "Name: pribil, Length: 958, dtype: int64"
      ]
     },
     "execution_count": 95,
     "metadata": {},
     "output_type": "execute_result"
    }
   ],
   "source": [
    "data.groupby('director')['pribil'].sum().sort_values(ascending=[False])"
   ]
  },
  {
   "cell_type": "code",
   "execution_count": 50,
   "metadata": {},
   "outputs": [],
   "source": [
    "answer_ls.append(5)"
   ]
  },
  {
   "cell_type": "markdown",
   "metadata": {},
   "source": [
    "# 16. Какой актер принес больше всего прибыли?\n",
    "Варианты ответов:\n",
    "1. Emma Watson\n",
    "2. Johnny Depp\n",
    "3. Michelle Rodriguez\n",
    "4. Orlando Bloom\n",
    "5. Rupert Grint"
   ]
  },
  {
   "cell_type": "code",
   "execution_count": 243,
   "metadata": {},
   "outputs": [
    {
     "data": {
      "text/plain": [
       "6666245597"
      ]
     },
     "metadata": {},
     "output_type": "display_data"
    },
    {
     "data": {
      "text/plain": [
       "4776417000"
      ]
     },
     "metadata": {},
     "output_type": "display_data"
    },
    {
     "data": {
      "text/plain": [
       "4608031235"
      ]
     },
     "metadata": {},
     "output_type": "display_data"
    },
    {
     "data": {
      "text/plain": [
       "5148578162"
      ]
     },
     "metadata": {},
     "output_type": "display_data"
    },
    {
     "data": {
      "text/plain": [
       "6408638290"
      ]
     },
     "metadata": {},
     "output_type": "display_data"
    }
   ],
   "source": [
    "display(data[data.cast.str.contains('Emma Watson')].pribil.sum())\n",
    "display(data[data.cast.str.contains('Johnny Depp')].pribil.sum())\n",
    "display(data[data.cast.str.contains('Michelle Rodriguez')].pribil.sum())\n",
    "display(data[data.cast.str.contains('Orlando Bloom')].pribil.sum())\n",
    "display(data[data.cast.str.contains('Rupert Grint')].pribil.sum())\n"
   ]
  },
  {
   "cell_type": "code",
   "execution_count": 51,
   "metadata": {},
   "outputs": [
    {
     "data": {
      "text/plain": [
       "[4, 2, 3, 2, 1, 5, 2, 1, 4, 5, 3, 1, 1, 4, 5, 1]"
      ]
     },
     "execution_count": 51,
     "metadata": {},
     "output_type": "execute_result"
    }
   ],
   "source": [
    "answer_ls.append(1)\n",
    "answer_ls"
   ]
  },
  {
   "cell_type": "markdown",
   "metadata": {},
   "source": [
    "# 17. Какой актер принес меньше всего прибыли в 2012 году?\n",
    "Варианты ответов:\n",
    "1. Nicolas Cage\n",
    "2. Danny Huston\n",
    "3. Kirsten Dunst\n",
    "4. Jim Sturgess\n",
    "5. Sami Gayle"
   ]
  },
  {
   "cell_type": "code",
   "execution_count": 60,
   "metadata": {},
   "outputs": [
    {
     "data": {
      "text/html": [
       "<div>\n",
       "<style scoped>\n",
       "    .dataframe tbody tr th:only-of-type {\n",
       "        vertical-align: middle;\n",
       "    }\n",
       "\n",
       "    .dataframe tbody tr th {\n",
       "        vertical-align: top;\n",
       "    }\n",
       "\n",
       "    .dataframe thead th {\n",
       "        text-align: right;\n",
       "    }\n",
       "</style>\n",
       "<table border=\"1\" class=\"dataframe\">\n",
       "  <thead>\n",
       "    <tr style=\"text-align: right;\">\n",
       "      <th></th>\n",
       "      <th>pribil</th>\n",
       "      <th>cast_0</th>\n",
       "      <th>imdb_id</th>\n",
       "      <th>popularity</th>\n",
       "      <th>budget</th>\n",
       "      <th>revenue</th>\n",
       "      <th>original_title</th>\n",
       "      <th>cast</th>\n",
       "      <th>director</th>\n",
       "      <th>runtime</th>\n",
       "      <th>genres</th>\n",
       "      <th>production_companies</th>\n",
       "      <th>release_date</th>\n",
       "      <th>release_year</th>\n",
       "      <th>vote_count</th>\n",
       "      <th>vote_average</th>\n",
       "    </tr>\n",
       "  </thead>\n",
       "  <tbody>\n",
       "    <tr>\n",
       "      <td>0</td>\n",
       "      <td>1363528810</td>\n",
       "      <td>Chris Pratt</td>\n",
       "      <td>tt0369610</td>\n",
       "      <td>32.985763</td>\n",
       "      <td>150000000</td>\n",
       "      <td>1513528810</td>\n",
       "      <td>Jurassic World</td>\n",
       "      <td>Chris Pratt|Bryce Dallas Howard|Irrfan Khan|Vi...</td>\n",
       "      <td>Colin Trevorrow</td>\n",
       "      <td>124</td>\n",
       "      <td>Action|Adventure|Science Fiction|Thriller</td>\n",
       "      <td>Universal Studios|Amblin Entertainment|Legenda...</td>\n",
       "      <td>6/9/2015</td>\n",
       "      <td>2015</td>\n",
       "      <td>5562</td>\n",
       "      <td>6.5</td>\n",
       "    </tr>\n",
       "    <tr>\n",
       "      <td>1</td>\n",
       "      <td>228436354</td>\n",
       "      <td>Tom Hardy</td>\n",
       "      <td>tt1392190</td>\n",
       "      <td>28.419936</td>\n",
       "      <td>150000000</td>\n",
       "      <td>378436354</td>\n",
       "      <td>Mad Max: Fury Road</td>\n",
       "      <td>Tom Hardy|Charlize Theron|Hugh Keays-Byrne|Nic...</td>\n",
       "      <td>George Miller</td>\n",
       "      <td>120</td>\n",
       "      <td>Action|Adventure|Science Fiction|Thriller</td>\n",
       "      <td>Village Roadshow Pictures|Kennedy Miller Produ...</td>\n",
       "      <td>5/13/2015</td>\n",
       "      <td>2015</td>\n",
       "      <td>6185</td>\n",
       "      <td>7.1</td>\n",
       "    </tr>\n",
       "    <tr>\n",
       "      <td>2</td>\n",
       "      <td>185238201</td>\n",
       "      <td>Shailene Woodley</td>\n",
       "      <td>tt2908446</td>\n",
       "      <td>13.112507</td>\n",
       "      <td>110000000</td>\n",
       "      <td>295238201</td>\n",
       "      <td>Insurgent</td>\n",
       "      <td>Shailene Woodley|Theo James|Kate Winslet|Ansel...</td>\n",
       "      <td>Robert Schwentke</td>\n",
       "      <td>119</td>\n",
       "      <td>Adventure|Science Fiction|Thriller</td>\n",
       "      <td>Summit Entertainment|Mandeville Films|Red Wago...</td>\n",
       "      <td>3/18/2015</td>\n",
       "      <td>2015</td>\n",
       "      <td>2480</td>\n",
       "      <td>6.3</td>\n",
       "    </tr>\n",
       "    <tr>\n",
       "      <td>3</td>\n",
       "      <td>1868178225</td>\n",
       "      <td>Harrison Ford</td>\n",
       "      <td>tt2488496</td>\n",
       "      <td>11.173104</td>\n",
       "      <td>200000000</td>\n",
       "      <td>2068178225</td>\n",
       "      <td>Star Wars: The Force Awakens</td>\n",
       "      <td>Harrison Ford|Mark Hamill|Carrie Fisher|Adam D...</td>\n",
       "      <td>J.J. Abrams</td>\n",
       "      <td>136</td>\n",
       "      <td>Action|Adventure|Science Fiction|Fantasy</td>\n",
       "      <td>Lucasfilm|Truenorth Productions|Bad Robot</td>\n",
       "      <td>12/15/2015</td>\n",
       "      <td>2015</td>\n",
       "      <td>5292</td>\n",
       "      <td>7.5</td>\n",
       "    </tr>\n",
       "    <tr>\n",
       "      <td>4</td>\n",
       "      <td>1316249360</td>\n",
       "      <td>Vin Diesel</td>\n",
       "      <td>tt2820852</td>\n",
       "      <td>9.335014</td>\n",
       "      <td>190000000</td>\n",
       "      <td>1506249360</td>\n",
       "      <td>Furious 7</td>\n",
       "      <td>Vin Diesel|Paul Walker|Jason Statham|Michelle ...</td>\n",
       "      <td>James Wan</td>\n",
       "      <td>137</td>\n",
       "      <td>Action|Crime|Thriller</td>\n",
       "      <td>Universal Pictures|Original Film|Media Rights ...</td>\n",
       "      <td>4/1/2015</td>\n",
       "      <td>2015</td>\n",
       "      <td>2947</td>\n",
       "      <td>7.3</td>\n",
       "    </tr>\n",
       "  </tbody>\n",
       "</table>\n",
       "</div>"
      ],
      "text/plain": [
       "       pribil            cast_0    imdb_id  popularity     budget     revenue  \\\n",
       "0  1363528810       Chris Pratt  tt0369610   32.985763  150000000  1513528810   \n",
       "1   228436354         Tom Hardy  tt1392190   28.419936  150000000   378436354   \n",
       "2   185238201  Shailene Woodley  tt2908446   13.112507  110000000   295238201   \n",
       "3  1868178225     Harrison Ford  tt2488496   11.173104  200000000  2068178225   \n",
       "4  1316249360        Vin Diesel  tt2820852    9.335014  190000000  1506249360   \n",
       "\n",
       "                 original_title  \\\n",
       "0                Jurassic World   \n",
       "1            Mad Max: Fury Road   \n",
       "2                     Insurgent   \n",
       "3  Star Wars: The Force Awakens   \n",
       "4                     Furious 7   \n",
       "\n",
       "                                                cast          director  \\\n",
       "0  Chris Pratt|Bryce Dallas Howard|Irrfan Khan|Vi...   Colin Trevorrow   \n",
       "1  Tom Hardy|Charlize Theron|Hugh Keays-Byrne|Nic...     George Miller   \n",
       "2  Shailene Woodley|Theo James|Kate Winslet|Ansel...  Robert Schwentke   \n",
       "3  Harrison Ford|Mark Hamill|Carrie Fisher|Adam D...       J.J. Abrams   \n",
       "4  Vin Diesel|Paul Walker|Jason Statham|Michelle ...         James Wan   \n",
       "\n",
       "   runtime                                     genres  \\\n",
       "0      124  Action|Adventure|Science Fiction|Thriller   \n",
       "1      120  Action|Adventure|Science Fiction|Thriller   \n",
       "2      119         Adventure|Science Fiction|Thriller   \n",
       "3      136   Action|Adventure|Science Fiction|Fantasy   \n",
       "4      137                      Action|Crime|Thriller   \n",
       "\n",
       "                                production_companies release_date  \\\n",
       "0  Universal Studios|Amblin Entertainment|Legenda...     6/9/2015   \n",
       "1  Village Roadshow Pictures|Kennedy Miller Produ...    5/13/2015   \n",
       "2  Summit Entertainment|Mandeville Films|Red Wago...    3/18/2015   \n",
       "3          Lucasfilm|Truenorth Productions|Bad Robot   12/15/2015   \n",
       "4  Universal Pictures|Original Film|Media Rights ...     4/1/2015   \n",
       "\n",
       "   release_year  vote_count  vote_average  \n",
       "0          2015        5562           6.5  \n",
       "1          2015        6185           7.1  \n",
       "2          2015        2480           6.3  \n",
       "3          2015        5292           7.5  \n",
       "4          2015        2947           7.3  "
      ]
     },
     "execution_count": 60,
     "metadata": {},
     "output_type": "execute_result"
    }
   ],
   "source": [
    "df = pd.DataFrame(data.cast.str.split('|').tolist())\n",
    "df.columns = ['cast_0','cast_1','cast_2','cast_3','cast_4']\n",
    "df0 = pd.concat([data.pribil,df.cast_0,data.imdb_id,data.popularity,data.budget,data.revenue,data.original_title,\n",
    "                data.cast,data.director,data.runtime,data.genres,data.production_companies,data.release_date,\n",
    "                data.release_year,data.vote_count,data.vote_average],axis=1)\n",
    "df1 = pd.concat([data.pribil,df.cast_1,data.imdb_id,data.popularity,data.budget,data.revenue,data.original_title,\n",
    "                data.cast,data.director,data.runtime,data.genres,data.production_companies,data.release_date,\n",
    "                data.release_year,data.vote_count,data.vote_average],axis=1)\n",
    "df2 = pd.concat([data.pribil,df.cast_2,data.imdb_id,data.popularity,data.budget,data.revenue,data.original_title,\n",
    "                data.cast,data.director,data.runtime,data.genres,data.production_companies,data.release_date,\n",
    "                data.release_year,data.vote_count,data.vote_average],axis=1)\n",
    "df3 = pd.concat([data.pribil,df.cast_3,data.imdb_id,data.popularity,data.budget,data.revenue,data.original_title,\n",
    "                data.cast,data.director,data.runtime,data.genres,data.production_companies,data.release_date,\n",
    "                data.release_year,data.vote_count,data.vote_average],axis=1)\n",
    "df4 = pd.concat([data.pribil,df.cast_4,data.imdb_id,data.popularity,data.budget,data.revenue,data.original_title,\n",
    "                data.cast,data.director,data.runtime,data.genres,data.production_companies,data.release_date,\n",
    "                data.release_year,data.vote_count,data.vote_average],axis=1)\n",
    "df1 = df1.rename(columns={'cast_1':'cast_0'})\n",
    "df2 = df2.rename(columns={'cast_2':'cast_0'})\n",
    "df3 = df3.rename(columns={'cast_3':'cast_0'})\n",
    "df4 = df4.rename(columns={'cast_4':'cast_0'})\n",
    "\n",
    "final = pd.concat([df0,df1,df2,df3,df4],axis=0)\n",
    "\n",
    "\n",
    "\n",
    "\n",
    "final.head(5)"
   ]
  },
  {
   "cell_type": "code",
   "execution_count": 72,
   "metadata": {},
   "outputs": [
    {
     "data": {
      "text/plain": [
       "cast_0\n",
       "Kirsten Dunst         -68109207\n",
       "Heidi Hawkins         -51893525\n",
       "James Kidnie          -51893525\n",
       "Timothy Spall         -51893525\n",
       "Malin Ã…kerman        -43733509\n",
       "                        ...    \n",
       "Robert Downey Jr.    1299557910\n",
       "Mark Ruffalo         1299557910\n",
       "Chris Evans          1299557910\n",
       "Denis Leary          1319460639\n",
       "Chris Hemsworth      1542450773\n",
       "Name: pribil, Length: 466, dtype: int64"
      ]
     },
     "execution_count": 72,
     "metadata": {},
     "output_type": "execute_result"
    }
   ],
   "source": [
    "final.loc[(final.release_year == 2012)].groupby('cast_0')['pribil'].sum().sort_values(ascending=[True])\n",
    "answer_ls.append(3)"
   ]
  },
  {
   "cell_type": "code",
   "execution_count": 73,
   "metadata": {},
   "outputs": [
    {
     "data": {
      "text/plain": [
       "[4, 2, 3, 2, 1, 5, 2, 1, 4, 5, 3, 1, 1, 4, 5, 1, 3]"
      ]
     },
     "execution_count": 73,
     "metadata": {},
     "output_type": "execute_result"
    }
   ],
   "source": [
    "answer_ls"
   ]
  },
  {
   "cell_type": "markdown",
   "metadata": {},
   "source": [
    "# 18. Какой актер снялся в большем количестве высокобюджетных фильмов? (в фильмах где бюджет выше среднего по данной выборке)\n",
    "Варианты ответов:\n",
    "1. Tom Cruise\n",
    "2. Mark Wahlberg \n",
    "3. Matt Damon\n",
    "4. Angelina Jolie\n",
    "5. Adam Sandler"
   ]
  },
  {
   "cell_type": "code",
   "execution_count": 96,
   "metadata": {},
   "outputs": [
    {
     "data": {
      "text/html": [
       "<div>\n",
       "<style scoped>\n",
       "    .dataframe tbody tr th:only-of-type {\n",
       "        vertical-align: middle;\n",
       "    }\n",
       "\n",
       "    .dataframe tbody tr th {\n",
       "        vertical-align: top;\n",
       "    }\n",
       "\n",
       "    .dataframe thead th {\n",
       "        text-align: right;\n",
       "    }\n",
       "</style>\n",
       "<table border=\"1\" class=\"dataframe\">\n",
       "  <thead>\n",
       "    <tr style=\"text-align: right;\">\n",
       "      <th></th>\n",
       "      <th>pribil</th>\n",
       "      <th>imdb_id</th>\n",
       "      <th>popularity</th>\n",
       "      <th>budget</th>\n",
       "      <th>revenue</th>\n",
       "      <th>original_title</th>\n",
       "      <th>cast</th>\n",
       "      <th>director</th>\n",
       "      <th>runtime</th>\n",
       "      <th>genres</th>\n",
       "      <th>production_companies</th>\n",
       "      <th>release_date</th>\n",
       "      <th>release_year</th>\n",
       "      <th>vote_count</th>\n",
       "      <th>vote_average</th>\n",
       "    </tr>\n",
       "    <tr>\n",
       "      <th>cast_0</th>\n",
       "      <th></th>\n",
       "      <th></th>\n",
       "      <th></th>\n",
       "      <th></th>\n",
       "      <th></th>\n",
       "      <th></th>\n",
       "      <th></th>\n",
       "      <th></th>\n",
       "      <th></th>\n",
       "      <th></th>\n",
       "      <th></th>\n",
       "      <th></th>\n",
       "      <th></th>\n",
       "      <th></th>\n",
       "      <th></th>\n",
       "    </tr>\n",
       "  </thead>\n",
       "  <tbody>\n",
       "    <tr>\n",
       "      <td>Matt Damon</td>\n",
       "      <td>18</td>\n",
       "      <td>18</td>\n",
       "      <td>18</td>\n",
       "      <td>18</td>\n",
       "      <td>18</td>\n",
       "      <td>18</td>\n",
       "      <td>18</td>\n",
       "      <td>18</td>\n",
       "      <td>18</td>\n",
       "      <td>18</td>\n",
       "      <td>18</td>\n",
       "      <td>18</td>\n",
       "      <td>18</td>\n",
       "      <td>18</td>\n",
       "      <td>18</td>\n",
       "    </tr>\n",
       "    <tr>\n",
       "      <td>Adam Sandler</td>\n",
       "      <td>17</td>\n",
       "      <td>17</td>\n",
       "      <td>17</td>\n",
       "      <td>17</td>\n",
       "      <td>17</td>\n",
       "      <td>17</td>\n",
       "      <td>17</td>\n",
       "      <td>17</td>\n",
       "      <td>17</td>\n",
       "      <td>17</td>\n",
       "      <td>17</td>\n",
       "      <td>17</td>\n",
       "      <td>17</td>\n",
       "      <td>17</td>\n",
       "      <td>17</td>\n",
       "    </tr>\n",
       "    <tr>\n",
       "      <td>Angelina Jolie</td>\n",
       "      <td>16</td>\n",
       "      <td>16</td>\n",
       "      <td>16</td>\n",
       "      <td>16</td>\n",
       "      <td>16</td>\n",
       "      <td>16</td>\n",
       "      <td>16</td>\n",
       "      <td>16</td>\n",
       "      <td>16</td>\n",
       "      <td>16</td>\n",
       "      <td>16</td>\n",
       "      <td>16</td>\n",
       "      <td>16</td>\n",
       "      <td>16</td>\n",
       "      <td>16</td>\n",
       "    </tr>\n",
       "    <tr>\n",
       "      <td>Samuel L. Jackson</td>\n",
       "      <td>15</td>\n",
       "      <td>15</td>\n",
       "      <td>15</td>\n",
       "      <td>15</td>\n",
       "      <td>15</td>\n",
       "      <td>15</td>\n",
       "      <td>15</td>\n",
       "      <td>15</td>\n",
       "      <td>15</td>\n",
       "      <td>15</td>\n",
       "      <td>15</td>\n",
       "      <td>15</td>\n",
       "      <td>15</td>\n",
       "      <td>15</td>\n",
       "      <td>15</td>\n",
       "    </tr>\n",
       "    <tr>\n",
       "      <td>Tom Cruise</td>\n",
       "      <td>15</td>\n",
       "      <td>15</td>\n",
       "      <td>15</td>\n",
       "      <td>15</td>\n",
       "      <td>15</td>\n",
       "      <td>15</td>\n",
       "      <td>15</td>\n",
       "      <td>15</td>\n",
       "      <td>15</td>\n",
       "      <td>15</td>\n",
       "      <td>15</td>\n",
       "      <td>15</td>\n",
       "      <td>15</td>\n",
       "      <td>15</td>\n",
       "      <td>15</td>\n",
       "    </tr>\n",
       "    <tr>\n",
       "      <td>...</td>\n",
       "      <td>...</td>\n",
       "      <td>...</td>\n",
       "      <td>...</td>\n",
       "      <td>...</td>\n",
       "      <td>...</td>\n",
       "      <td>...</td>\n",
       "      <td>...</td>\n",
       "      <td>...</td>\n",
       "      <td>...</td>\n",
       "      <td>...</td>\n",
       "      <td>...</td>\n",
       "      <td>...</td>\n",
       "      <td>...</td>\n",
       "      <td>...</td>\n",
       "      <td>...</td>\n",
       "    </tr>\n",
       "    <tr>\n",
       "      <td>Jennifer Hudson</td>\n",
       "      <td>1</td>\n",
       "      <td>1</td>\n",
       "      <td>1</td>\n",
       "      <td>1</td>\n",
       "      <td>1</td>\n",
       "      <td>1</td>\n",
       "      <td>1</td>\n",
       "      <td>1</td>\n",
       "      <td>1</td>\n",
       "      <td>1</td>\n",
       "      <td>1</td>\n",
       "      <td>1</td>\n",
       "      <td>1</td>\n",
       "      <td>1</td>\n",
       "      <td>1</td>\n",
       "    </tr>\n",
       "    <tr>\n",
       "      <td>Jennifer Jason Leigh</td>\n",
       "      <td>1</td>\n",
       "      <td>1</td>\n",
       "      <td>1</td>\n",
       "      <td>1</td>\n",
       "      <td>1</td>\n",
       "      <td>1</td>\n",
       "      <td>1</td>\n",
       "      <td>1</td>\n",
       "      <td>1</td>\n",
       "      <td>1</td>\n",
       "      <td>1</td>\n",
       "      <td>1</td>\n",
       "      <td>1</td>\n",
       "      <td>1</td>\n",
       "      <td>1</td>\n",
       "    </tr>\n",
       "    <tr>\n",
       "      <td>Jennifer Saunders</td>\n",
       "      <td>1</td>\n",
       "      <td>1</td>\n",
       "      <td>1</td>\n",
       "      <td>1</td>\n",
       "      <td>1</td>\n",
       "      <td>1</td>\n",
       "      <td>1</td>\n",
       "      <td>1</td>\n",
       "      <td>1</td>\n",
       "      <td>1</td>\n",
       "      <td>1</td>\n",
       "      <td>1</td>\n",
       "      <td>1</td>\n",
       "      <td>1</td>\n",
       "      <td>1</td>\n",
       "    </tr>\n",
       "    <tr>\n",
       "      <td>Jennifer Tilly</td>\n",
       "      <td>1</td>\n",
       "      <td>1</td>\n",
       "      <td>1</td>\n",
       "      <td>1</td>\n",
       "      <td>1</td>\n",
       "      <td>1</td>\n",
       "      <td>1</td>\n",
       "      <td>1</td>\n",
       "      <td>1</td>\n",
       "      <td>1</td>\n",
       "      <td>1</td>\n",
       "      <td>1</td>\n",
       "      <td>1</td>\n",
       "      <td>1</td>\n",
       "      <td>1</td>\n",
       "    </tr>\n",
       "    <tr>\n",
       "      <td>Ã“lafur Darri Ã“lafsson</td>\n",
       "      <td>1</td>\n",
       "      <td>1</td>\n",
       "      <td>1</td>\n",
       "      <td>1</td>\n",
       "      <td>1</td>\n",
       "      <td>1</td>\n",
       "      <td>1</td>\n",
       "      <td>1</td>\n",
       "      <td>1</td>\n",
       "      <td>1</td>\n",
       "      <td>1</td>\n",
       "      <td>1</td>\n",
       "      <td>1</td>\n",
       "      <td>1</td>\n",
       "      <td>1</td>\n",
       "    </tr>\n",
       "  </tbody>\n",
       "</table>\n",
       "<p>1508 rows × 15 columns</p>\n",
       "</div>"
      ],
      "text/plain": [
       "                         pribil  imdb_id  popularity  budget  revenue  \\\n",
       "cast_0                                                                  \n",
       "Matt Damon                   18       18          18      18       18   \n",
       "Adam Sandler                 17       17          17      17       17   \n",
       "Angelina Jolie               16       16          16      16       16   \n",
       "Samuel L. Jackson            15       15          15      15       15   \n",
       "Tom Cruise                   15       15          15      15       15   \n",
       "...                         ...      ...         ...     ...      ...   \n",
       "Jennifer Hudson               1        1           1       1        1   \n",
       "Jennifer Jason Leigh          1        1           1       1        1   \n",
       "Jennifer Saunders             1        1           1       1        1   \n",
       "Jennifer Tilly                1        1           1       1        1   \n",
       "Ã“lafur Darri Ã“lafsson       1        1           1       1        1   \n",
       "\n",
       "                         original_title  cast  director  runtime  genres  \\\n",
       "cast_0                                                                     \n",
       "Matt Damon                           18    18        18       18      18   \n",
       "Adam Sandler                         17    17        17       17      17   \n",
       "Angelina Jolie                       16    16        16       16      16   \n",
       "Samuel L. Jackson                    15    15        15       15      15   \n",
       "Tom Cruise                           15    15        15       15      15   \n",
       "...                                 ...   ...       ...      ...     ...   \n",
       "Jennifer Hudson                       1     1         1        1       1   \n",
       "Jennifer Jason Leigh                  1     1         1        1       1   \n",
       "Jennifer Saunders                     1     1         1        1       1   \n",
       "Jennifer Tilly                        1     1         1        1       1   \n",
       "Ã“lafur Darri Ã“lafsson               1     1         1        1       1   \n",
       "\n",
       "                         production_companies  release_date  release_year  \\\n",
       "cast_0                                                                      \n",
       "Matt Damon                                 18            18            18   \n",
       "Adam Sandler                               17            17            17   \n",
       "Angelina Jolie                             16            16            16   \n",
       "Samuel L. Jackson                          15            15            15   \n",
       "Tom Cruise                                 15            15            15   \n",
       "...                                       ...           ...           ...   \n",
       "Jennifer Hudson                             1             1             1   \n",
       "Jennifer Jason Leigh                        1             1             1   \n",
       "Jennifer Saunders                           1             1             1   \n",
       "Jennifer Tilly                              1             1             1   \n",
       "Ã“lafur Darri Ã“lafsson                     1             1             1   \n",
       "\n",
       "                         vote_count  vote_average  \n",
       "cast_0                                             \n",
       "Matt Damon                       18            18  \n",
       "Adam Sandler                     17            17  \n",
       "Angelina Jolie                   16            16  \n",
       "Samuel L. Jackson                15            15  \n",
       "Tom Cruise                       15            15  \n",
       "...                             ...           ...  \n",
       "Jennifer Hudson                   1             1  \n",
       "Jennifer Jason Leigh              1             1  \n",
       "Jennifer Saunders                 1             1  \n",
       "Jennifer Tilly                    1             1  \n",
       "Ã“lafur Darri Ã“lafsson           1             1  \n",
       "\n",
       "[1508 rows x 15 columns]"
      ]
     },
     "execution_count": 96,
     "metadata": {},
     "output_type": "execute_result"
    }
   ],
   "source": [
    "final.loc[(final.budget >final.budget.mean())].groupby('cast_0').count().sort_values(by = ['budget'],ascending=[False])\n",
    "answer_ls.append(3)"
   ]
  },
  {
   "cell_type": "code",
   "execution_count": 97,
   "metadata": {},
   "outputs": [
    {
     "data": {
      "text/plain": [
       "[4, 2, 3, 2, 1, 5, 2, 1, 4, 5, 3, 1, 1, 4, 5, 1, 3, 3]"
      ]
     },
     "execution_count": 97,
     "metadata": {},
     "output_type": "execute_result"
    }
   ],
   "source": [
    "answer_ls"
   ]
  },
  {
   "cell_type": "markdown",
   "metadata": {},
   "source": [
    "# 19. В фильмах какого жанра больше всего снимался Nicolas Cage?  \n",
    "Варианты ответа:\n",
    "1. Drama\n",
    "2. Action\n",
    "3. Thriller\n",
    "4. Adventure\n",
    "5. Crime"
   ]
  },
  {
   "cell_type": "code",
   "execution_count": 101,
   "metadata": {},
   "outputs": [
    {
     "data": {
      "text/plain": [
       "Action             17\n",
       "Thriller           15\n",
       "Drama              12\n",
       "Crime              10\n",
       "Fantasy             8\n",
       "Adventure           7\n",
       "Comedy              6\n",
       "Science Fiction     4\n",
       "Animation           3\n",
       "Family              3\n",
       "Mystery             3\n",
       "History             2\n",
       "War                 1\n",
       "Romance             1\n",
       "Horror              1\n",
       "dtype: int64"
      ]
     },
     "execution_count": 101,
     "metadata": {},
     "output_type": "execute_result"
    }
   ],
   "source": [
    "pd.DataFrame(final[final.cast_0=='Nicolas Cage'].genres.str.split('|').tolist()).stack().value_counts()\n",
    "answer_ls.append(2)"
   ]
  },
  {
   "cell_type": "markdown",
   "metadata": {},
   "source": [
    "# 20. Какая студия сняла больше всего фильмов?\n",
    "Варианты ответа:\n",
    "1. Universal Pictures (Universal)\n",
    "2. Paramount Pictures\n",
    "3. Columbia Pictures\n",
    "4. Warner Bros\n",
    "5. Twentieth Century Fox Film Corporation"
   ]
  },
  {
   "cell_type": "code",
   "execution_count": 104,
   "metadata": {},
   "outputs": [
    {
     "data": {
      "text/plain": [
       "Universal Pictures                        865\n",
       "Warner Bros.                              840\n",
       "Paramount Pictures                        610\n",
       "Columbia Pictures                         585\n",
       "Twentieth Century Fox Film Corporation    545\n",
       "                                         ... \n",
       "Temple Hill Productions                     5\n",
       "Natural Nylon Entertainment                 5\n",
       "Syndicate Films International               5\n",
       "Laurinfilm                                  5\n",
       "Joseph Nittolo Entertainment                5\n",
       "Length: 1772, dtype: int64"
      ]
     },
     "execution_count": 104,
     "metadata": {},
     "output_type": "execute_result"
    }
   ],
   "source": [
    "pd.DataFrame(final.production_companies.str.split('|').tolist()).stack().value_counts()\n",
    "answer_ls.append(1)"
   ]
  },
  {
   "cell_type": "code",
   "execution_count": 105,
   "metadata": {},
   "outputs": [
    {
     "data": {
      "text/plain": [
       "[4, 2, 3, 2, 1, 5, 2, 1, 4, 5, 3, 1, 1, 4, 5, 1, 3, 3, 2, 1]"
      ]
     },
     "execution_count": 105,
     "metadata": {},
     "output_type": "execute_result"
    }
   ],
   "source": [
    "answer_ls"
   ]
  },
  {
   "cell_type": "markdown",
   "metadata": {},
   "source": [
    "# 21. Какая студия сняла больше всего фильмов в 2015 году?\n",
    "Варианты ответа:\n",
    "1. Universal Pictures\n",
    "2. Paramount Pictures\n",
    "3. Columbia Pictures\n",
    "4. Warner Bros\n",
    "5. Twentieth Century Fox Film Corporation"
   ]
  },
  {
   "cell_type": "code",
   "execution_count": 290,
   "metadata": {},
   "outputs": [
    {
     "data": {
      "text/plain": [
       "Warner Bros.                              60\n",
       "Universal Pictures                        50\n",
       "Twentieth Century Fox Film Corporation    40\n",
       "Paramount Pictures                        35\n",
       "Columbia Pictures                         35\n",
       "                                          ..\n",
       "Mid Atlantic Films                         5\n",
       "Irish Film Board                           5\n",
       "Apatow Productions                         5\n",
       "DMG Entertainment                          5\n",
       "Blue Sky Studios                           5\n",
       "Length: 246, dtype: int64"
      ]
     },
     "execution_count": 290,
     "metadata": {},
     "output_type": "execute_result"
    }
   ],
   "source": [
    "pd.DataFrame(final[final.release_year==2015].production_companies.str.split('|').tolist()).stack().value_counts()\n",
    "#answer_ls.append(4)"
   ]
  },
  {
   "cell_type": "markdown",
   "metadata": {},
   "source": [
    "# 22. Какая студия заработала больше всего денег в жанре комедий за все время?\n",
    "Варианты ответа:\n",
    "1. Warner Bros\n",
    "2. Universal Pictures (Universal)\n",
    "3. Columbia Pictures\n",
    "4. Paramount Pictures\n",
    "5. Walt Disney"
   ]
  },
  {
   "cell_type": "code",
   "execution_count": 170,
   "metadata": {},
   "outputs": [
    {
     "data": {
      "text/plain": [
       "'Universal Pictures'"
      ]
     },
     "execution_count": 170,
     "metadata": {},
     "output_type": "execute_result"
    }
   ],
   "source": [
    "answer_l=[]\n",
    "production_companies_dict = {}\n",
    "for x in range(len(data)):\n",
    "    if 'Comedy' in list(data[data.index == x].genres)[0]:\n",
    "        for y in list(data[data.index == x].production_companies)[0].split('|'):\n",
    "            production_companies_dict.setdefault(y, 0)\n",
    "            production_companies_dict[y] += list(data[data.index == x].pribil)[0]\n",
    "\n",
    "answer_l.append(sorted(production_companies_dict.items(), key=lambda x: x[1], reverse = True)[0][0])\n",
    "answer_l[-1] #выводим ответ"
   ]
  },
  {
   "cell_type": "code",
   "execution_count": 171,
   "metadata": {},
   "outputs": [
    {
     "data": {
      "text/plain": [
       "[4, 2, 3, 2, 1, 5, 2, 1, 4, 5, 3, 1, 1, 4, 5, 1, 3, 3, 2, 1, 4, 2]"
      ]
     },
     "execution_count": 171,
     "metadata": {},
     "output_type": "execute_result"
    }
   ],
   "source": [
    "answer_ls.append(2)\n",
    "answer_ls"
   ]
  },
  {
   "cell_type": "markdown",
   "metadata": {},
   "source": [
    "# 23. Какая студия заработала больше всего денег в 2012 году?\n",
    "Варианты ответа:\n",
    "1. Universal Pictures (Universal)\n",
    "2. Warner Bros\n",
    "3. Columbia Pictures\n",
    "4. Paramount Pictures\n",
    "5. Lucasfilm"
   ]
  },
  {
   "cell_type": "code",
   "execution_count": 174,
   "metadata": {},
   "outputs": [
    {
     "data": {
      "text/plain": [
       "'Columbia Pictures'"
      ]
     },
     "execution_count": 174,
     "metadata": {},
     "output_type": "execute_result"
    }
   ],
   "source": [
    "answer_l=[]\n",
    "production_companies_dict = {}\n",
    "for x in range(len(data)):\n",
    "    if list(data[data.index == x].release_year)[0]==2012:\n",
    "        for y in list(data[data.index == x].production_companies)[0].split('|'):\n",
    "            production_companies_dict.setdefault(y, 0)\n",
    "            production_companies_dict[y] += list(data[data.index == x].pribil)[0]\n",
    "\n",
    "answer_l.append(sorted(production_companies_dict.items(), key=lambda x: x[1], reverse = True)[0][0])\n",
    "answer_l[-1] \n",
    "answer_ls.append(3)"
   ]
  },
  {
   "cell_type": "markdown",
   "metadata": {},
   "source": [
    "# 24. Самый убыточный фильм от Paramount Pictures\n",
    "Варианты ответа:\n",
    "\n",
    "1. K-19: The Widowmaker tt0267626\n",
    "2. Next tt0435705\n",
    "3. Twisted tt0315297\n",
    "4. The Love Guru tt0811138\n",
    "5. The Fighter tt0964517"
   ]
  },
  {
   "cell_type": "code",
   "execution_count": 179,
   "metadata": {},
   "outputs": [
    {
     "data": {
      "text/plain": [
       "'K-19: The Widowmaker'"
      ]
     },
     "execution_count": 179,
     "metadata": {},
     "output_type": "execute_result"
    }
   ],
   "source": [
    "answer_l=[]\n",
    "original_title_dict = {}\n",
    "for x in range(len(data)):\n",
    "    if 'Paramount Pictures' in list(data[data.index == x].production_companies)[0]:\n",
    "        original_title_dict.setdefault(list(data[data.index == x].original_title)[0],list(data[data.index == x].pribil)[0])\n",
    "\n",
    "answer_l.append(sorted(original_title_dict.items(), key=lambda x: x[1])[0][0])\n",
    "answer_l[-1] \n",
    "answer_ls.append(1)"
   ]
  },
  {
   "cell_type": "code",
   "execution_count": null,
   "metadata": {},
   "outputs": [],
   "source": [
    "\n"
   ]
  },
  {
   "cell_type": "markdown",
   "metadata": {},
   "source": [
    "# 25. Какой Самый прибыльный год (заработали больше всего)?\n",
    "Варианты ответа:\n",
    "1. 2014\n",
    "2. 2008\n",
    "3. 2012\n",
    "4. 2002\n",
    "5. 2015"
   ]
  },
  {
   "cell_type": "code",
   "execution_count": 186,
   "metadata": {},
   "outputs": [
    {
     "data": {
      "text/plain": [
       "release_year\n",
       "2015    18668572378\n",
       "2014    16397812953\n",
       "2012    16077001687\n",
       "2013    15243179791\n",
       "2011    14730241341\n",
       "2009    13423744372\n",
       "2010    13117292530\n",
       "2008    11663881990\n",
       "2007    11565911801\n",
       "2004     9634180720\n",
       "2003     9228823312\n",
       "2002     9002361487\n",
       "2005     8981925558\n",
       "2006     8691077320\n",
       "2001     7950614865\n",
       "2000     6101399805\n",
       "Name: pribil, dtype: int64"
      ]
     },
     "execution_count": 186,
     "metadata": {},
     "output_type": "execute_result"
    }
   ],
   "source": [
    "data.groupby('release_year')['pribil'].sum().sort_values(ascending=[False])"
   ]
  },
  {
   "cell_type": "code",
   "execution_count": 187,
   "metadata": {},
   "outputs": [],
   "source": [
    "answer_ls.append(5)"
   ]
  },
  {
   "cell_type": "markdown",
   "metadata": {},
   "source": [
    "# 26. Какой Самый прибыльный год для студии Warner Bros?\n",
    "Варианты ответа:\n",
    "1. 2014\n",
    "2. 2008\n",
    "3. 2012\n",
    "4. 2010\n",
    "5. 2015"
   ]
  },
  {
   "cell_type": "code",
   "execution_count": 189,
   "metadata": {},
   "outputs": [
    {
     "data": {
      "text/plain": [
       "release_year\n",
       "2014    2295464519\n",
       "2007    2201675217\n",
       "2008    2134595031\n",
       "2010    1974712985\n",
       "2011    1871393682\n",
       "2003    1855493377\n",
       "2009    1822454136\n",
       "2013    1636453400\n",
       "2004    1631933725\n",
       "2005    1551980298\n",
       "2001    1343545668\n",
       "2012    1258020056\n",
       "2002    1022709901\n",
       "2015     870368348\n",
       "2006     620170743\n",
       "2000     452631386\n",
       "Name: pribil, dtype: int64"
      ]
     },
     "execution_count": 189,
     "metadata": {},
     "output_type": "execute_result"
    }
   ],
   "source": [
    "data[data.production_companies.str.contains('Warner Bros')].groupby('release_year')['pribil'].sum().sort_values(ascending=[False])"
   ]
  },
  {
   "cell_type": "code",
   "execution_count": 190,
   "metadata": {},
   "outputs": [],
   "source": [
    "answer_ls.append(1)"
   ]
  },
  {
   "cell_type": "markdown",
   "metadata": {},
   "source": [
    "# 27. В каком месяце за все годы суммарно вышло больше всего фильмов?\n",
    "Варианты ответа:\n",
    "1. Январь\n",
    "2. Июнь\n",
    "3. Декабрь\n",
    "4. Сентябрь\n",
    "5. Май"
   ]
  },
  {
   "cell_type": "code",
   "execution_count": 193,
   "metadata": {},
   "outputs": [
    {
     "data": {
      "text/plain": [
       "'сентябрь'"
      ]
     },
     "execution_count": 193,
     "metadata": {},
     "output_type": "execute_result"
    }
   ],
   "source": [
    "answer_l=[]\n",
    "from datetime import datetime\n",
    "mounth_list = [\n",
    "    'январь',\n",
    "    'февраль',\n",
    "    'март',\n",
    "    'апрель',\n",
    "    'май',\n",
    "    'июнь',\n",
    "    'июль',\n",
    "    'август',\n",
    "    'сентябрь',\n",
    "    'октябрь',\n",
    "    'ноябрь',\n",
    "    'декабрь'\n",
    "]\n",
    "\n",
    "data['mounth'] = data.release_date.apply(lambda x : mounth_list[int(datetime.strptime(x,'%m/%d/%Y').month)-1])\n",
    "answer_l.append(data.mounth.value_counts().keys()[0])\n",
    "answer_l[-1] \n",
    "answer_ls.append(4)"
   ]
  },
  {
   "cell_type": "markdown",
   "metadata": {},
   "source": [
    "# 28. Сколько суммарно вышло фильмов летом? (за июнь, июль, август)\n",
    "Варианты ответа:\n",
    "1. 345\n",
    "2. 450\n",
    "3. 478\n",
    "4. 523\n",
    "5. 381"
   ]
  },
  {
   "cell_type": "code",
   "execution_count": 200,
   "metadata": {},
   "outputs": [
    {
     "data": {
      "text/plain": [
       "450"
      ]
     },
     "execution_count": 200,
     "metadata": {},
     "output_type": "execute_result"
    }
   ],
   "source": [
    "(len(data[data.mounth=='июнь']) + len(data[data.mounth=='июль']) + len(data[data.mounth=='август']))\n",
    "answer_ls.append(2)\n"
   ]
  },
  {
   "cell_type": "markdown",
   "metadata": {},
   "source": [
    "# 29. Какой режисер выпускает (суммарно по годам) больше всего фильмов зимой?\n",
    "Варианты ответов:\n",
    "1. Steven Soderbergh\n",
    "2. Christopher Nolan\n",
    "3. Clint Eastwood\n",
    "4. Ridley Scott\n",
    "5. Peter Jackson"
   ]
  },
  {
   "cell_type": "code",
   "execution_count": 217,
   "metadata": {},
   "outputs": [
    {
     "data": {
      "text/plain": [
       "director\n",
       "Peter Jackson                    7\n",
       "Clint Eastwood                   6\n",
       "Steven Soderbergh                6\n",
       "Shawn Levy                       4\n",
       "Adam Shankman                    4\n",
       "                                ..\n",
       "Matt Reeves                      1\n",
       "Matthew O'Callaghan              1\n",
       "Matthew Vaughn                   1\n",
       "McG                              1\n",
       "Aaron Seltzer|Jason Friedberg    1\n",
       "Name: release_year, Length: 333, dtype: int64"
      ]
     },
     "execution_count": 217,
     "metadata": {},
     "output_type": "execute_result"
    }
   ],
   "source": [
    "data.loc[(data.mounth=='декабрь') | (data.mounth=='январь') |(data.mounth=='февраль')].groupby('director')['release_year'].count().sort_values(ascending=[False])\n",
    "answer_ls.append(5)"
   ]
  },
  {
   "cell_type": "markdown",
   "metadata": {},
   "source": [
    "# 30. Какой месяц чаще всего по годам самый прибыльный?\n",
    "Варианты ответа:\n",
    "1. Январь\n",
    "2. Июнь\n",
    "3. Декабрь\n",
    "4. Сентябрь\n",
    "5. Май"
   ]
  },
  {
   "cell_type": "code",
   "execution_count": 222,
   "metadata": {},
   "outputs": [
    {
     "data": {
      "text/plain": [
       "mounth\n",
       "июнь        27551262500\n",
       "декабрь     26563071474\n",
       "май         25039516141\n",
       "ноябрь      18654155473\n",
       "июль        18307895020\n",
       "март        13720216540\n",
       "октябрь     12994907859\n",
       "апрель      12876005537\n",
       "сентябрь    10878921041\n",
       "август       9640610446\n",
       "февраль      8854574425\n",
       "январь       5396885454\n",
       "Name: pribil, dtype: int64"
      ]
     },
     "execution_count": 222,
     "metadata": {},
     "output_type": "execute_result"
    }
   ],
   "source": [
    "data.groupby('mounth')['pribil'].sum().sort_values(ascending=[False])\n",
    "answer_ls.append(2)"
   ]
  },
  {
   "cell_type": "markdown",
   "metadata": {},
   "source": [
    "# 31. Названия фильмов какой студии в среднем самые длинные по количеству символов?\n",
    "Варианты ответа:\n",
    "1. Universal Pictures (Universal)\n",
    "2. Warner Bros\n",
    "3. Jim Henson Company, The\n",
    "4. Paramount Pictures\n",
    "5. Four By Two Productions"
   ]
  },
  {
   "cell_type": "code",
   "execution_count": 225,
   "metadata": {},
   "outputs": [
    {
     "data": {
      "text/plain": [
       "'Four By Two Productions'"
      ]
     },
     "execution_count": 225,
     "metadata": {},
     "output_type": "execute_result"
    }
   ],
   "source": [
    "answer_l=[]\n",
    "production_companies_dict_count = {}\n",
    "production_companies_dict = {}\n",
    "\n",
    "for x in range(len(data)):\n",
    "    for y in list(data[data.index == x].production_companies)[0].split('|'):\n",
    "        production_companies_dict.setdefault(y, 0)\n",
    "        production_companies_dict_count.setdefault(y, 0)\n",
    "        production_companies_dict[y] += len(list(data[data.index == x].original_title)[0])\n",
    "        production_companies_dict_count[y] += 1\n",
    "\n",
    "for x in production_companies_dict_count:\n",
    "    production_companies_dict[x] = production_companies_dict[x] / production_companies_dict_count[x]\n",
    "answer_l.append(sorted(production_companies_dict.items(), key=lambda x: x[1], reverse = True)[0][0])\n",
    "answer_l[-1] \n",
    "answer_ls.append(5)"
   ]
  },
  {
   "cell_type": "markdown",
   "metadata": {},
   "source": [
    "# 32. Названия фильмов какой студии в среднем самые длинные по количеству слов?\n",
    "Варианты ответа:\n",
    "1. Universal Pictures (Universal)\n",
    "2. Warner Bros\n",
    "3. Jim Henson Company, The\n",
    "4. Paramount Pictures\n",
    "5. Four By Two Productions"
   ]
  },
  {
   "cell_type": "code",
   "execution_count": 228,
   "metadata": {},
   "outputs": [
    {
     "data": {
      "text/plain": [
       "'Four By Two Productions'"
      ]
     },
     "execution_count": 228,
     "metadata": {},
     "output_type": "execute_result"
    }
   ],
   "source": [
    "answer_l=[]\n",
    "production_companies_dict_count = {}\n",
    "production_companies_dict = {}\n",
    "\n",
    "for x in range(len(data)):\n",
    "    for y in list(data[data.index == x].production_companies)[0].split('|'):\n",
    "        production_companies_dict.setdefault(y, 0)\n",
    "        production_companies_dict_count.setdefault(y, 0)\n",
    "        production_companies_dict[y] += len(list(data[data.index == x].original_title)[0].split(' '))\n",
    "        production_companies_dict_count[y] += 1\n",
    "for x in production_companies_dict_count:\n",
    "    production_companies_dict[x] = production_companies_dict[x] / production_companies_dict_count[x]\n",
    "answer_l.append(sorted(production_companies_dict.items(), key=lambda x: x[1], reverse = True)[0][0])\n",
    "answer_l[-1] \n",
    "answer_ls.append(5)"
   ]
  },
  {
   "cell_type": "markdown",
   "metadata": {},
   "source": [
    "# 33. Сколько разных слов используется в названиях фильмов?(без учета регистра)\n",
    "Варианты ответа:\n",
    "1. 6540\n",
    "2. 1002\n",
    "3. 2461\n",
    "4. 28304\n",
    "5. 3432"
   ]
  },
  {
   "cell_type": "code",
   "execution_count": 232,
   "metadata": {},
   "outputs": [
    {
     "data": {
      "text/plain": [
       "2477"
      ]
     },
     "execution_count": 232,
     "metadata": {},
     "output_type": "execute_result"
    }
   ],
   "source": [
    "answer_l=[]\n",
    "word_count = {}\n",
    "for x in range(len(data)):\n",
    "    for y in list(data[data.index == x].original_title)[0].split(' '):\n",
    "        word_count.setdefault(y, 0)\n",
    "        word_count[y] += 1\n",
    "    \n",
    "answer_l.append(len(word_count))\n",
    "answer_l[-1] \n",
    "answer_ls.append(3)"
   ]
  },
  {
   "cell_type": "markdown",
   "metadata": {},
   "source": [
    "# 34. Какие фильмы входят в 1 процент лучших по рейтингу?\n",
    "Варианты ответа:\n",
    "1. Inside Out, Gone Girl, 12 Years a Slave\n",
    "2. BloodRayne, The Adventures of Rocky & Bullwinkle\n",
    "3. The Lord of the Rings: The Return of the King\n",
    "4. 300, Lucky Number Slevin"
   ]
  },
  {
   "cell_type": "code",
   "execution_count": 299,
   "metadata": {},
   "outputs": [
    {
     "data": {
      "text/plain": [
       "600                                   The Dark Knight\n",
       "125                                The Imitation Game\n",
       "9                                          Inside Out\n",
       "118                                      Interstellar\n",
       "34                                               Room\n",
       "1082    The Lord of the Rings: The Return of the King\n",
       "873                                       The Pianist\n",
       "1801                                          Memento\n",
       "1192                                 12 Years a Slave\n",
       "128                                         Gone Girl\n",
       "Name: original_title, dtype: object"
      ]
     },
     "execution_count": 299,
     "metadata": {},
     "output_type": "execute_result"
    }
   ],
   "source": [
    "data.sort_values(by='vote_average', ascending=False).original_title.head(10)\n",
    "answer_ls.append(1)"
   ]
  },
  {
   "cell_type": "code",
   "execution_count": 303,
   "metadata": {},
   "outputs": [
    {
     "name": "stdout",
     "output_type": "stream",
     "text": [
      "[4, 2, 3, 2, 1, 5, 2, 1, 4, 5, 3, 1, 1, 4, 5, 1, 3, 3, 2, 1, 4, 2, 3, 5, 1, 4, 2, 5, 2, 5, 5, 3, 1]\n"
     ]
    }
   ],
   "source": [
    "print(answer_ls)"
   ]
  },
  {
   "cell_type": "markdown",
   "metadata": {},
   "source": [
    "# 35. Какие актеры чаще всего снимаются в одном фильме вместе\n",
    "Варианты ответа:\n",
    "1. Johnny Depp & Helena Bonham Carter\n",
    "2. Hugh Jackman & Ian McKellen\n",
    "3. Vin Diesel & Paul Walker\n",
    "4. Adam Sandler & Kevin James\n",
    "5. Daniel Radcliffe & Rupert Grint"
   ]
  },
  {
   "cell_type": "code",
   "execution_count": 306,
   "metadata": {},
   "outputs": [
    {
     "data": {
      "text/plain": [
       "'Daniel Radcliffe & Rupert Grint'"
      ]
     },
     "execution_count": 306,
     "metadata": {},
     "output_type": "execute_result"
    }
   ],
   "source": [
    "answer_l=[]\n",
    "cast_dict={} \n",
    "for x in range(len(data)):\n",
    "    union = list(data[data.index == x].cast)[0].split('|')\n",
    "    if len(union)>1:\n",
    "        for y in union:\n",
    "            cast_dict.setdefault(y,[])\n",
    "            cast_dict[y]+=union\n",
    "            \n",
    "cast_union_dict = {} \n",
    "for x in cast_dict:\n",
    "    for y in cast_dict[x]:\n",
    "        if x!=y:\n",
    "            cast_union_dict.setdefault(x+' & '+y,0)\n",
    "            cast_union_dict[x+' & '+y]+=1\n",
    "cast_union_dict\n",
    "\n",
    "answer_l.append(sorted(cast_union_dict.items(), key=lambda x: x[1], reverse = True)[0][0])\n",
    "answer_l[-1] \n",
    "answer_ls.append(5)"
   ]
  },
  {
   "cell_type": "markdown",
   "metadata": {},
   "source": [
    "# 36. У какого из режиссеров выше вероятность выпустить фильм в прибыли? (5 баллов)101\n",
    "Варианты ответа:\n",
    "1. Quentin Tarantino\n",
    "2. Steven Soderbergh\n",
    "3. Robert Rodriguez\n",
    "4. Christopher Nolan\n",
    "5. Clint Eastwood"
   ]
  },
  {
   "cell_type": "code",
   "execution_count": 360,
   "metadata": {},
   "outputs": [
    {
     "data": {
      "text/html": [
       "<div>\n",
       "<style scoped>\n",
       "    .dataframe tbody tr th:only-of-type {\n",
       "        vertical-align: middle;\n",
       "    }\n",
       "\n",
       "    .dataframe tbody tr th {\n",
       "        vertical-align: top;\n",
       "    }\n",
       "\n",
       "    .dataframe thead th {\n",
       "        text-align: right;\n",
       "    }\n",
       "</style>\n",
       "<table border=\"1\" class=\"dataframe\">\n",
       "  <thead>\n",
       "    <tr style=\"text-align: right;\">\n",
       "      <th></th>\n",
       "      <th>name</th>\n",
       "      <th>director_x</th>\n",
       "      <th>director_y</th>\n",
       "      <th>ver</th>\n",
       "    </tr>\n",
       "  </thead>\n",
       "  <tbody>\n",
       "    <tr>\n",
       "      <td>0</td>\n",
       "      <td>Ridley Scott</td>\n",
       "      <td>12</td>\n",
       "      <td>12</td>\n",
       "      <td>1.000000</td>\n",
       "    </tr>\n",
       "    <tr>\n",
       "      <td>1</td>\n",
       "      <td>Steven Spielberg</td>\n",
       "      <td>10</td>\n",
       "      <td>10</td>\n",
       "      <td>1.000000</td>\n",
       "    </tr>\n",
       "    <tr>\n",
       "      <td>2</td>\n",
       "      <td>Steven Soderbergh</td>\n",
       "      <td>10</td>\n",
       "      <td>13</td>\n",
       "      <td>0.769231</td>\n",
       "    </tr>\n",
       "    <tr>\n",
       "      <td>3</td>\n",
       "      <td>Clint Eastwood</td>\n",
       "      <td>10</td>\n",
       "      <td>12</td>\n",
       "      <td>0.833333</td>\n",
       "    </tr>\n",
       "    <tr>\n",
       "      <td>4</td>\n",
       "      <td>Shawn Levy</td>\n",
       "      <td>9</td>\n",
       "      <td>10</td>\n",
       "      <td>0.900000</td>\n",
       "    </tr>\n",
       "    <tr>\n",
       "      <td>5</td>\n",
       "      <td>Michael Bay</td>\n",
       "      <td>8</td>\n",
       "      <td>8</td>\n",
       "      <td>1.000000</td>\n",
       "    </tr>\n",
       "    <tr>\n",
       "      <td>6</td>\n",
       "      <td>Tim Burton</td>\n",
       "      <td>8</td>\n",
       "      <td>8</td>\n",
       "      <td>1.000000</td>\n",
       "    </tr>\n",
       "    <tr>\n",
       "      <td>7</td>\n",
       "      <td>Peter Jackson</td>\n",
       "      <td>8</td>\n",
       "      <td>8</td>\n",
       "      <td>1.000000</td>\n",
       "    </tr>\n",
       "    <tr>\n",
       "      <td>8</td>\n",
       "      <td>Antoine Fuqua</td>\n",
       "      <td>8</td>\n",
       "      <td>8</td>\n",
       "      <td>1.000000</td>\n",
       "    </tr>\n",
       "    <tr>\n",
       "      <td>9</td>\n",
       "      <td>Christopher Nolan</td>\n",
       "      <td>8</td>\n",
       "      <td>8</td>\n",
       "      <td>1.000000</td>\n",
       "    </tr>\n",
       "  </tbody>\n",
       "</table>\n",
       "</div>"
      ],
      "text/plain": [
       "                name  director_x  director_y       ver\n",
       "0       Ridley Scott          12          12  1.000000\n",
       "1   Steven Spielberg          10          10  1.000000\n",
       "2  Steven Soderbergh          10          13  0.769231\n",
       "3     Clint Eastwood          10          12  0.833333\n",
       "4         Shawn Levy           9          10  0.900000\n",
       "5        Michael Bay           8           8  1.000000\n",
       "6         Tim Burton           8           8  1.000000\n",
       "7      Peter Jackson           8           8  1.000000\n",
       "8      Antoine Fuqua           8           8  1.000000\n",
       "9  Christopher Nolan           8           8  1.000000"
      ]
     },
     "execution_count": 360,
     "metadata": {},
     "output_type": "execute_result"
    }
   ],
   "source": [
    "directors=data['director'].value_counts().to_frame()\n",
    "directors=directors.reset_index()\n",
    "directors = directors.rename(columns={'index':'name'})\n",
    "incomePlusDirectors=data[data.pribil>0]['director'].value_counts().to_frame()\n",
    "incomePlusDirectors=incomePlusDirectors.reset_index()\n",
    "incomePlusDirectors=incomePlusDirectors.rename(columns ={'index':'name'})\n",
    "joined = incomePlusDirectors.merge(directors,on = 'name',how='inner')\n",
    "joined['ver']=joined['director_x']/joined['director_y']\n",
    "\n",
    "joined.head(10)\n",
    "#answer_ls.append(4)\n"
   ]
  },
  {
   "cell_type": "code",
   "execution_count": 365,
   "metadata": {},
   "outputs": [
    {
     "data": {
      "text/plain": [
       "36"
      ]
     },
     "execution_count": 365,
     "metadata": {},
     "output_type": "execute_result"
    }
   ],
   "source": [
    "len(answer_ls)\n"
   ]
  },
  {
   "cell_type": "markdown",
   "metadata": {},
   "source": [
    "# Submission"
   ]
  },
  {
   "cell_type": "code",
   "execution_count": 368,
   "metadata": {},
   "outputs": [
    {
     "data": {
      "text/plain": [
       "36"
      ]
     },
     "execution_count": 368,
     "metadata": {},
     "output_type": "execute_result"
    }
   ],
   "source": [
    "len(answer_ls)"
   ]
  },
  {
   "cell_type": "code",
   "execution_count": 369,
   "metadata": {},
   "outputs": [
    {
     "data": {
      "text/html": [
       "<div>\n",
       "<style scoped>\n",
       "    .dataframe tbody tr th:only-of-type {\n",
       "        vertical-align: middle;\n",
       "    }\n",
       "\n",
       "    .dataframe tbody tr th {\n",
       "        vertical-align: top;\n",
       "    }\n",
       "\n",
       "    .dataframe thead th {\n",
       "        text-align: right;\n",
       "    }\n",
       "</style>\n",
       "<table border=\"1\" class=\"dataframe\">\n",
       "  <thead>\n",
       "    <tr style=\"text-align: right;\">\n",
       "      <th></th>\n",
       "      <th>Id</th>\n",
       "      <th>Answer</th>\n",
       "    </tr>\n",
       "  </thead>\n",
       "  <tbody>\n",
       "    <tr>\n",
       "      <td>0</td>\n",
       "      <td>1</td>\n",
       "      <td>4</td>\n",
       "    </tr>\n",
       "    <tr>\n",
       "      <td>1</td>\n",
       "      <td>2</td>\n",
       "      <td>2</td>\n",
       "    </tr>\n",
       "    <tr>\n",
       "      <td>2</td>\n",
       "      <td>3</td>\n",
       "      <td>3</td>\n",
       "    </tr>\n",
       "    <tr>\n",
       "      <td>3</td>\n",
       "      <td>4</td>\n",
       "      <td>2</td>\n",
       "    </tr>\n",
       "    <tr>\n",
       "      <td>4</td>\n",
       "      <td>5</td>\n",
       "      <td>1</td>\n",
       "    </tr>\n",
       "    <tr>\n",
       "      <td>5</td>\n",
       "      <td>6</td>\n",
       "      <td>5</td>\n",
       "    </tr>\n",
       "    <tr>\n",
       "      <td>6</td>\n",
       "      <td>7</td>\n",
       "      <td>2</td>\n",
       "    </tr>\n",
       "    <tr>\n",
       "      <td>7</td>\n",
       "      <td>8</td>\n",
       "      <td>1</td>\n",
       "    </tr>\n",
       "    <tr>\n",
       "      <td>8</td>\n",
       "      <td>9</td>\n",
       "      <td>4</td>\n",
       "    </tr>\n",
       "    <tr>\n",
       "      <td>9</td>\n",
       "      <td>10</td>\n",
       "      <td>5</td>\n",
       "    </tr>\n",
       "    <tr>\n",
       "      <td>10</td>\n",
       "      <td>11</td>\n",
       "      <td>3</td>\n",
       "    </tr>\n",
       "    <tr>\n",
       "      <td>11</td>\n",
       "      <td>12</td>\n",
       "      <td>1</td>\n",
       "    </tr>\n",
       "    <tr>\n",
       "      <td>12</td>\n",
       "      <td>13</td>\n",
       "      <td>1</td>\n",
       "    </tr>\n",
       "    <tr>\n",
       "      <td>13</td>\n",
       "      <td>14</td>\n",
       "      <td>4</td>\n",
       "    </tr>\n",
       "    <tr>\n",
       "      <td>14</td>\n",
       "      <td>15</td>\n",
       "      <td>5</td>\n",
       "    </tr>\n",
       "    <tr>\n",
       "      <td>15</td>\n",
       "      <td>16</td>\n",
       "      <td>1</td>\n",
       "    </tr>\n",
       "    <tr>\n",
       "      <td>16</td>\n",
       "      <td>17</td>\n",
       "      <td>3</td>\n",
       "    </tr>\n",
       "    <tr>\n",
       "      <td>17</td>\n",
       "      <td>18</td>\n",
       "      <td>3</td>\n",
       "    </tr>\n",
       "    <tr>\n",
       "      <td>18</td>\n",
       "      <td>19</td>\n",
       "      <td>2</td>\n",
       "    </tr>\n",
       "    <tr>\n",
       "      <td>19</td>\n",
       "      <td>20</td>\n",
       "      <td>1</td>\n",
       "    </tr>\n",
       "    <tr>\n",
       "      <td>20</td>\n",
       "      <td>21</td>\n",
       "      <td>4</td>\n",
       "    </tr>\n",
       "    <tr>\n",
       "      <td>21</td>\n",
       "      <td>22</td>\n",
       "      <td>2</td>\n",
       "    </tr>\n",
       "    <tr>\n",
       "      <td>22</td>\n",
       "      <td>23</td>\n",
       "      <td>3</td>\n",
       "    </tr>\n",
       "    <tr>\n",
       "      <td>23</td>\n",
       "      <td>24</td>\n",
       "      <td>1</td>\n",
       "    </tr>\n",
       "    <tr>\n",
       "      <td>24</td>\n",
       "      <td>25</td>\n",
       "      <td>5</td>\n",
       "    </tr>\n",
       "    <tr>\n",
       "      <td>25</td>\n",
       "      <td>26</td>\n",
       "      <td>1</td>\n",
       "    </tr>\n",
       "    <tr>\n",
       "      <td>26</td>\n",
       "      <td>27</td>\n",
       "      <td>4</td>\n",
       "    </tr>\n",
       "    <tr>\n",
       "      <td>27</td>\n",
       "      <td>28</td>\n",
       "      <td>2</td>\n",
       "    </tr>\n",
       "    <tr>\n",
       "      <td>28</td>\n",
       "      <td>29</td>\n",
       "      <td>5</td>\n",
       "    </tr>\n",
       "    <tr>\n",
       "      <td>29</td>\n",
       "      <td>30</td>\n",
       "      <td>2</td>\n",
       "    </tr>\n",
       "    <tr>\n",
       "      <td>30</td>\n",
       "      <td>31</td>\n",
       "      <td>5</td>\n",
       "    </tr>\n",
       "    <tr>\n",
       "      <td>31</td>\n",
       "      <td>32</td>\n",
       "      <td>5</td>\n",
       "    </tr>\n",
       "    <tr>\n",
       "      <td>32</td>\n",
       "      <td>33</td>\n",
       "      <td>3</td>\n",
       "    </tr>\n",
       "    <tr>\n",
       "      <td>33</td>\n",
       "      <td>34</td>\n",
       "      <td>1</td>\n",
       "    </tr>\n",
       "    <tr>\n",
       "      <td>34</td>\n",
       "      <td>35</td>\n",
       "      <td>5</td>\n",
       "    </tr>\n",
       "    <tr>\n",
       "      <td>35</td>\n",
       "      <td>36</td>\n",
       "      <td>4</td>\n",
       "    </tr>\n",
       "  </tbody>\n",
       "</table>\n",
       "</div>"
      ],
      "text/plain": [
       "    Id  Answer\n",
       "0    1       4\n",
       "1    2       2\n",
       "2    3       3\n",
       "3    4       2\n",
       "4    5       1\n",
       "5    6       5\n",
       "6    7       2\n",
       "7    8       1\n",
       "8    9       4\n",
       "9   10       5\n",
       "10  11       3\n",
       "11  12       1\n",
       "12  13       1\n",
       "13  14       4\n",
       "14  15       5\n",
       "15  16       1\n",
       "16  17       3\n",
       "17  18       3\n",
       "18  19       2\n",
       "19  20       1\n",
       "20  21       4\n",
       "21  22       2\n",
       "22  23       3\n",
       "23  24       1\n",
       "24  25       5\n",
       "25  26       1\n",
       "26  27       4\n",
       "27  28       2\n",
       "28  29       5\n",
       "29  30       2\n",
       "30  31       5\n",
       "31  32       5\n",
       "32  33       3\n",
       "33  34       1\n",
       "34  35       5\n",
       "35  36       4"
      ]
     },
     "execution_count": 369,
     "metadata": {},
     "output_type": "execute_result"
    }
   ],
   "source": [
    "pd.DataFrame({'Id':range(1,len(answer_ls)+1), 'Answer':answer_ls}, columns=['Id', 'Answer'])"
   ]
  },
  {
   "cell_type": "code",
   "execution_count": null,
   "metadata": {},
   "outputs": [],
   "source": []
  }
 ],
 "metadata": {
  "kernelspec": {
   "display_name": "Python 3",
   "language": "python",
   "name": "python3"
  },
  "language_info": {
   "codemirror_mode": {
    "name": "ipython",
    "version": 3
   },
   "file_extension": ".py",
   "mimetype": "text/x-python",
   "name": "python",
   "nbconvert_exporter": "python",
   "pygments_lexer": "ipython3",
   "version": "3.7.4"
  }
 },
 "nbformat": 4,
 "nbformat_minor": 4
}
